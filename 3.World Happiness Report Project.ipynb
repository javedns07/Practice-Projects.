{
 "cells": [
  {
   "cell_type": "markdown",
   "id": "68c42e15",
   "metadata": {},
   "source": [
    "# World Happiness Report Project"
   ]
  },
  {
   "cell_type": "markdown",
   "id": "988bad23",
   "metadata": {},
   "source": [
    "# 1. Introduction"
   ]
  },
  {
   "cell_type": "markdown",
   "id": "1fdf8344",
   "metadata": {},
   "source": [
    "# Project Description\n",
    "The World Happiness Report is a landmark survey of the state of global happiness. The first report was published in 2012, the second in 2013, the third in 2015, and the fourth in the 2016 Update. The World Happiness 2017, which ranks 155 countries by their happiness levels, was released at the United Nations at an event celebrating International Day of Happiness on March 20th. The report continues to gain global recognition as governments, organizations and civil society increasingly use happiness indicators to inform their policy-making decisions. Leading experts across fields – economics, psychology, survey analysis, national statistics, health, public policy and more – describe how measurements of well-being can be used effectively to assess the progress of nations. The reports review the state of happiness in the world today and show how the new science of happiness explains personal and national variations in happiness.\n"
   ]
  },
  {
   "cell_type": "markdown",
   "id": "3b9cdeb1",
   "metadata": {},
   "source": [
    "# What is Dystopia?\n",
    "In the context of the World Happiness Report project, Dystopia refers to an imaginary country that represents the lowest possible levels of happiness. It serves as a benchmark against which all other countries can be compared. The purpose of Dystopia is to provide a reference point for evaluating each country's performance in terms of key variables such as GDP per Capita, Family, Life Expectancy, Freedom, Generosity, and Trust Government Corruption. By establishing Dystopia, researchers can assess how individual countries fare relative to the worst-case scenario, allowing for a more meaningful comparison of happiness levels worldwide."
   ]
  },
  {
   "cell_type": "markdown",
   "id": "61ffac8a",
   "metadata": {},
   "source": [
    "# What are the residuals?\n",
    "In the context of the World Happiness Report project, residuals refer to the unexplained components of the happiness score for each country. These residuals indicate the extent to which the six key variables (GDP per Capita, Family, Life Expectancy, Freedom, Generosity, and Trust Government Corruption) either over- or under-explain the average life evaluations or happiness scores.\n",
    "\n",
    "Essentially, the residuals represent the difference between the predicted happiness score based on the six variables and the actual observed happiness score for each country. A positive residual suggests that the observed happiness score is higher than what would be expected based on the six variables, while a negative residual indicates the opposite.\n",
    "\n",
    "It's important to note that these residuals have an average value of approximately zero over the whole set of countries, meaning that, on average, the six variables can explain the variations in happiness scores across countries. However, individual countries may have positive or negative residuals, indicating that there are additional factors contributing to their happiness levels beyond the six variables considered in the analysis."
   ]
  },
  {
   "cell_type": "markdown",
   "id": "d74d57ad",
   "metadata": {},
   "source": [
    "# What do the columns succeeding the Happiness Score(like Family, Generosity, etc.) describe?\n",
    "The columns succeeding the Happiness Score in the dataset represent various factors that contribute to evaluating the happiness level in each country. Here's a brief description of each:\n",
    "\n",
    "1. **GDP per Capita**: This column indicates the Gross Domestic Product (GDP) per capita for each country, which is a measure of the economic output per person. Higher GDP per capita generally correlates with higher levels of happiness.\n",
    "\n",
    "2. **Family**: This column represents the perceived social support or strength of social relationships within each country. Strong family bonds and social support networks contribute positively to overall happiness.\n",
    "\n",
    "3. **Life Expectancy**: This column indicates the average life expectancy at birth for each country's population. Longer life expectancy is typically associated with higher levels of happiness, as it reflects better healthcare, living conditions, and overall well-being.\n",
    "\n",
    "4. **Freedom**: This column measures the perceived freedom to make life choices within each country. Higher levels of personal and political freedom are often linked to greater happiness and satisfaction with life.\n",
    "\n",
    "5. **Generosity**: This column reflects the prevalence of altruistic behaviors such as charitable giving and volunteerism within each country. Societies with higher levels of generosity tend to have happier populations.\n",
    "\n",
    "6. **Trust Government Corruption**: This column represents the perceived trust in government institutions and the extent of corruption within each country. Lower levels of corruption and higher levels of trust in government are associated with higher levels of happiness.\n",
    "\n",
    "The Dystopia Residual metric, which is provided in the dataset, combines the Dystopia Happiness Score (a benchmark representing the least happy state) with the residual value or unexplained value for each country. Adding up all these factors along with the Dystopia Residual should theoretically result in the happiness score for each country.\n",
    "\n",
    "However, modeling these factors directly to predict happiness scores might be unreliable due to various complexities and interactions between the factors. Instead, the goal is to use machine learning techniques to predict the happiness score considering all these factors collectively.\n"
   ]
  },
  {
   "cell_type": "markdown",
   "id": "7395267b",
   "metadata": {},
   "source": [
    "# 2. Data Cleaning"
   ]
  },
  {
   "cell_type": "markdown",
   "id": "b5bb009b",
   "metadata": {},
   "source": [
    "# Import important library :"
   ]
  },
  {
   "cell_type": "code",
   "execution_count": 88,
   "id": "fe7ca190",
   "metadata": {},
   "outputs": [],
   "source": [
    "import warnings\n",
    "warnings.simplefilter(\"ignore\")\n",
    "import pickle\n",
    "import joblib\n",
    "\n",
    "import numpy as np\n",
    "import pandas as pd\n",
    "import seaborn as sns\n",
    "import matplotlib.pyplot as plt\n",
    "%matplotlib inline\n",
    "\n",
    "from scipy.stats import zscore\n",
    "\n",
    "from sklearn.preprocessing import StandardScaler\n",
    "\n",
    "\n",
    "from sklearn.model_selection import train_test_split\n",
    "from sklearn.linear_model import LinearRegression,Ridge,Lasso\n",
    "from sklearn.svm import SVR\n",
    "from sklearn.tree import DecisionTreeRegressor\n",
    "from sklearn.ensemble import RandomForestRegressor\n",
    "from sklearn.neighbors import KNeighborsRegressor\n",
    "from sklearn.ensemble import RandomForestRegressor, GradientBoostingRegressor, AdaBoostRegressor, ExtraTreesClassifier,ExtraTreesRegressor \n",
    "from xgboost import XGBRegressor\n",
    "\n",
    "from sklearn.metrics import r2_score\n",
    "from sklearn.metrics import mean_absolute_error\n",
    "from sklearn.metrics import mean_squared_error\n",
    "from sklearn.model_selection import cross_val_score\n",
    "\n",
    "\n",
    "from sklearn.model_selection import GridSearchCV"
   ]
  },
  {
   "cell_type": "code",
   "execution_count": null,
   "id": "10ee802b",
   "metadata": {},
   "outputs": [],
   "source": [
    "from sklearn.linear_model import LinearRegression,Ridge,Lasso\n",
    "from sklearn.neighbors import KNeighborsRegressor\n",
    "from sklearn.tree import DecisionTreeRegressor\n",
    "from sklearn.ensemble import RandomForestRegressor, GradientBoostingRegressor, AdaBoostRegressor, ExtraTreesClassifier,ExtraTreesRegressor \n",
    "from xgboost import XGBRegressor"
   ]
  },
  {
   "cell_type": "code",
   "execution_count": 2,
   "id": "be53200f",
   "metadata": {},
   "outputs": [],
   "source": [
    "df=pd.read_csv(r'https://raw.githubusercontent.com/FlipRoboTechnologies/ML-Datasets/main/World%20Happiness/happiness_score_dataset.csv')"
   ]
  },
  {
   "cell_type": "code",
   "execution_count": 3,
   "id": "5fd24246",
   "metadata": {},
   "outputs": [
    {
     "data": {
      "text/html": [
       "<div>\n",
       "<style scoped>\n",
       "    .dataframe tbody tr th:only-of-type {\n",
       "        vertical-align: middle;\n",
       "    }\n",
       "\n",
       "    .dataframe tbody tr th {\n",
       "        vertical-align: top;\n",
       "    }\n",
       "\n",
       "    .dataframe thead th {\n",
       "        text-align: right;\n",
       "    }\n",
       "</style>\n",
       "<table border=\"1\" class=\"dataframe\">\n",
       "  <thead>\n",
       "    <tr style=\"text-align: right;\">\n",
       "      <th></th>\n",
       "      <th>Country</th>\n",
       "      <th>Region</th>\n",
       "      <th>Happiness Rank</th>\n",
       "      <th>Happiness Score</th>\n",
       "      <th>Standard Error</th>\n",
       "      <th>Economy (GDP per Capita)</th>\n",
       "      <th>Family</th>\n",
       "      <th>Health (Life Expectancy)</th>\n",
       "      <th>Freedom</th>\n",
       "      <th>Trust (Government Corruption)</th>\n",
       "      <th>Generosity</th>\n",
       "      <th>Dystopia Residual</th>\n",
       "    </tr>\n",
       "  </thead>\n",
       "  <tbody>\n",
       "    <tr>\n",
       "      <th>0</th>\n",
       "      <td>Switzerland</td>\n",
       "      <td>Western Europe</td>\n",
       "      <td>1</td>\n",
       "      <td>7.587</td>\n",
       "      <td>0.03411</td>\n",
       "      <td>1.39651</td>\n",
       "      <td>1.34951</td>\n",
       "      <td>0.94143</td>\n",
       "      <td>0.66557</td>\n",
       "      <td>0.41978</td>\n",
       "      <td>0.29678</td>\n",
       "      <td>2.51738</td>\n",
       "    </tr>\n",
       "    <tr>\n",
       "      <th>1</th>\n",
       "      <td>Iceland</td>\n",
       "      <td>Western Europe</td>\n",
       "      <td>2</td>\n",
       "      <td>7.561</td>\n",
       "      <td>0.04884</td>\n",
       "      <td>1.30232</td>\n",
       "      <td>1.40223</td>\n",
       "      <td>0.94784</td>\n",
       "      <td>0.62877</td>\n",
       "      <td>0.14145</td>\n",
       "      <td>0.43630</td>\n",
       "      <td>2.70201</td>\n",
       "    </tr>\n",
       "    <tr>\n",
       "      <th>2</th>\n",
       "      <td>Denmark</td>\n",
       "      <td>Western Europe</td>\n",
       "      <td>3</td>\n",
       "      <td>7.527</td>\n",
       "      <td>0.03328</td>\n",
       "      <td>1.32548</td>\n",
       "      <td>1.36058</td>\n",
       "      <td>0.87464</td>\n",
       "      <td>0.64938</td>\n",
       "      <td>0.48357</td>\n",
       "      <td>0.34139</td>\n",
       "      <td>2.49204</td>\n",
       "    </tr>\n",
       "    <tr>\n",
       "      <th>3</th>\n",
       "      <td>Norway</td>\n",
       "      <td>Western Europe</td>\n",
       "      <td>4</td>\n",
       "      <td>7.522</td>\n",
       "      <td>0.03880</td>\n",
       "      <td>1.45900</td>\n",
       "      <td>1.33095</td>\n",
       "      <td>0.88521</td>\n",
       "      <td>0.66973</td>\n",
       "      <td>0.36503</td>\n",
       "      <td>0.34699</td>\n",
       "      <td>2.46531</td>\n",
       "    </tr>\n",
       "    <tr>\n",
       "      <th>4</th>\n",
       "      <td>Canada</td>\n",
       "      <td>North America</td>\n",
       "      <td>5</td>\n",
       "      <td>7.427</td>\n",
       "      <td>0.03553</td>\n",
       "      <td>1.32629</td>\n",
       "      <td>1.32261</td>\n",
       "      <td>0.90563</td>\n",
       "      <td>0.63297</td>\n",
       "      <td>0.32957</td>\n",
       "      <td>0.45811</td>\n",
       "      <td>2.45176</td>\n",
       "    </tr>\n",
       "    <tr>\n",
       "      <th>...</th>\n",
       "      <td>...</td>\n",
       "      <td>...</td>\n",
       "      <td>...</td>\n",
       "      <td>...</td>\n",
       "      <td>...</td>\n",
       "      <td>...</td>\n",
       "      <td>...</td>\n",
       "      <td>...</td>\n",
       "      <td>...</td>\n",
       "      <td>...</td>\n",
       "      <td>...</td>\n",
       "      <td>...</td>\n",
       "    </tr>\n",
       "    <tr>\n",
       "      <th>153</th>\n",
       "      <td>Rwanda</td>\n",
       "      <td>Sub-Saharan Africa</td>\n",
       "      <td>154</td>\n",
       "      <td>3.465</td>\n",
       "      <td>0.03464</td>\n",
       "      <td>0.22208</td>\n",
       "      <td>0.77370</td>\n",
       "      <td>0.42864</td>\n",
       "      <td>0.59201</td>\n",
       "      <td>0.55191</td>\n",
       "      <td>0.22628</td>\n",
       "      <td>0.67042</td>\n",
       "    </tr>\n",
       "    <tr>\n",
       "      <th>154</th>\n",
       "      <td>Benin</td>\n",
       "      <td>Sub-Saharan Africa</td>\n",
       "      <td>155</td>\n",
       "      <td>3.340</td>\n",
       "      <td>0.03656</td>\n",
       "      <td>0.28665</td>\n",
       "      <td>0.35386</td>\n",
       "      <td>0.31910</td>\n",
       "      <td>0.48450</td>\n",
       "      <td>0.08010</td>\n",
       "      <td>0.18260</td>\n",
       "      <td>1.63328</td>\n",
       "    </tr>\n",
       "    <tr>\n",
       "      <th>155</th>\n",
       "      <td>Syria</td>\n",
       "      <td>Middle East and Northern Africa</td>\n",
       "      <td>156</td>\n",
       "      <td>3.006</td>\n",
       "      <td>0.05015</td>\n",
       "      <td>0.66320</td>\n",
       "      <td>0.47489</td>\n",
       "      <td>0.72193</td>\n",
       "      <td>0.15684</td>\n",
       "      <td>0.18906</td>\n",
       "      <td>0.47179</td>\n",
       "      <td>0.32858</td>\n",
       "    </tr>\n",
       "    <tr>\n",
       "      <th>156</th>\n",
       "      <td>Burundi</td>\n",
       "      <td>Sub-Saharan Africa</td>\n",
       "      <td>157</td>\n",
       "      <td>2.905</td>\n",
       "      <td>0.08658</td>\n",
       "      <td>0.01530</td>\n",
       "      <td>0.41587</td>\n",
       "      <td>0.22396</td>\n",
       "      <td>0.11850</td>\n",
       "      <td>0.10062</td>\n",
       "      <td>0.19727</td>\n",
       "      <td>1.83302</td>\n",
       "    </tr>\n",
       "    <tr>\n",
       "      <th>157</th>\n",
       "      <td>Togo</td>\n",
       "      <td>Sub-Saharan Africa</td>\n",
       "      <td>158</td>\n",
       "      <td>2.839</td>\n",
       "      <td>0.06727</td>\n",
       "      <td>0.20868</td>\n",
       "      <td>0.13995</td>\n",
       "      <td>0.28443</td>\n",
       "      <td>0.36453</td>\n",
       "      <td>0.10731</td>\n",
       "      <td>0.16681</td>\n",
       "      <td>1.56726</td>\n",
       "    </tr>\n",
       "  </tbody>\n",
       "</table>\n",
       "<p>158 rows × 12 columns</p>\n",
       "</div>"
      ],
      "text/plain": [
       "         Country                           Region  Happiness Rank  \\\n",
       "0    Switzerland                   Western Europe               1   \n",
       "1        Iceland                   Western Europe               2   \n",
       "2        Denmark                   Western Europe               3   \n",
       "3         Norway                   Western Europe               4   \n",
       "4         Canada                    North America               5   \n",
       "..           ...                              ...             ...   \n",
       "153       Rwanda               Sub-Saharan Africa             154   \n",
       "154        Benin               Sub-Saharan Africa             155   \n",
       "155        Syria  Middle East and Northern Africa             156   \n",
       "156      Burundi               Sub-Saharan Africa             157   \n",
       "157         Togo               Sub-Saharan Africa             158   \n",
       "\n",
       "     Happiness Score  Standard Error  Economy (GDP per Capita)   Family  \\\n",
       "0              7.587         0.03411                   1.39651  1.34951   \n",
       "1              7.561         0.04884                   1.30232  1.40223   \n",
       "2              7.527         0.03328                   1.32548  1.36058   \n",
       "3              7.522         0.03880                   1.45900  1.33095   \n",
       "4              7.427         0.03553                   1.32629  1.32261   \n",
       "..               ...             ...                       ...      ...   \n",
       "153            3.465         0.03464                   0.22208  0.77370   \n",
       "154            3.340         0.03656                   0.28665  0.35386   \n",
       "155            3.006         0.05015                   0.66320  0.47489   \n",
       "156            2.905         0.08658                   0.01530  0.41587   \n",
       "157            2.839         0.06727                   0.20868  0.13995   \n",
       "\n",
       "     Health (Life Expectancy)  Freedom  Trust (Government Corruption)  \\\n",
       "0                     0.94143  0.66557                        0.41978   \n",
       "1                     0.94784  0.62877                        0.14145   \n",
       "2                     0.87464  0.64938                        0.48357   \n",
       "3                     0.88521  0.66973                        0.36503   \n",
       "4                     0.90563  0.63297                        0.32957   \n",
       "..                        ...      ...                            ...   \n",
       "153                   0.42864  0.59201                        0.55191   \n",
       "154                   0.31910  0.48450                        0.08010   \n",
       "155                   0.72193  0.15684                        0.18906   \n",
       "156                   0.22396  0.11850                        0.10062   \n",
       "157                   0.28443  0.36453                        0.10731   \n",
       "\n",
       "     Generosity  Dystopia Residual  \n",
       "0       0.29678            2.51738  \n",
       "1       0.43630            2.70201  \n",
       "2       0.34139            2.49204  \n",
       "3       0.34699            2.46531  \n",
       "4       0.45811            2.45176  \n",
       "..          ...                ...  \n",
       "153     0.22628            0.67042  \n",
       "154     0.18260            1.63328  \n",
       "155     0.47179            0.32858  \n",
       "156     0.19727            1.83302  \n",
       "157     0.16681            1.56726  \n",
       "\n",
       "[158 rows x 12 columns]"
      ]
     },
     "execution_count": 3,
     "metadata": {},
     "output_type": "execute_result"
    }
   ],
   "source": [
    "df"
   ]
  },
  {
   "cell_type": "code",
   "execution_count": 4,
   "id": "611d7fa2",
   "metadata": {},
   "outputs": [
    {
     "name": "stdout",
     "output_type": "stream",
     "text": [
      "Number of rows: 158   Number of columns: 12\n"
     ]
    }
   ],
   "source": [
    "#Rows and columns \n",
    "print('Number of rows:', df.shape[0],\" \",'Number of columns:', df.shape[1]) "
   ]
  },
  {
   "cell_type": "code",
   "execution_count": 5,
   "id": "74a9a1c7",
   "metadata": {},
   "outputs": [
    {
     "data": {
      "text/html": [
       "<div>\n",
       "<style scoped>\n",
       "    .dataframe tbody tr th:only-of-type {\n",
       "        vertical-align: middle;\n",
       "    }\n",
       "\n",
       "    .dataframe tbody tr th {\n",
       "        vertical-align: top;\n",
       "    }\n",
       "\n",
       "    .dataframe thead th {\n",
       "        text-align: right;\n",
       "    }\n",
       "</style>\n",
       "<table border=\"1\" class=\"dataframe\">\n",
       "  <thead>\n",
       "    <tr style=\"text-align: right;\">\n",
       "      <th></th>\n",
       "      <th>Country</th>\n",
       "      <th>Region</th>\n",
       "      <th>Happiness Rank</th>\n",
       "      <th>Happiness Score</th>\n",
       "      <th>Standard Error</th>\n",
       "      <th>Economy (GDP per Capita)</th>\n",
       "      <th>Family</th>\n",
       "      <th>Health (Life Expectancy)</th>\n",
       "      <th>Freedom</th>\n",
       "      <th>Trust (Government Corruption)</th>\n",
       "      <th>Generosity</th>\n",
       "      <th>Dystopia Residual</th>\n",
       "    </tr>\n",
       "  </thead>\n",
       "  <tbody>\n",
       "    <tr>\n",
       "      <th>0</th>\n",
       "      <td>Switzerland</td>\n",
       "      <td>Western Europe</td>\n",
       "      <td>1</td>\n",
       "      <td>7.587</td>\n",
       "      <td>0.03411</td>\n",
       "      <td>1.39651</td>\n",
       "      <td>1.34951</td>\n",
       "      <td>0.94143</td>\n",
       "      <td>0.66557</td>\n",
       "      <td>0.41978</td>\n",
       "      <td>0.29678</td>\n",
       "      <td>2.51738</td>\n",
       "    </tr>\n",
       "    <tr>\n",
       "      <th>1</th>\n",
       "      <td>Iceland</td>\n",
       "      <td>Western Europe</td>\n",
       "      <td>2</td>\n",
       "      <td>7.561</td>\n",
       "      <td>0.04884</td>\n",
       "      <td>1.30232</td>\n",
       "      <td>1.40223</td>\n",
       "      <td>0.94784</td>\n",
       "      <td>0.62877</td>\n",
       "      <td>0.14145</td>\n",
       "      <td>0.43630</td>\n",
       "      <td>2.70201</td>\n",
       "    </tr>\n",
       "    <tr>\n",
       "      <th>2</th>\n",
       "      <td>Denmark</td>\n",
       "      <td>Western Europe</td>\n",
       "      <td>3</td>\n",
       "      <td>7.527</td>\n",
       "      <td>0.03328</td>\n",
       "      <td>1.32548</td>\n",
       "      <td>1.36058</td>\n",
       "      <td>0.87464</td>\n",
       "      <td>0.64938</td>\n",
       "      <td>0.48357</td>\n",
       "      <td>0.34139</td>\n",
       "      <td>2.49204</td>\n",
       "    </tr>\n",
       "    <tr>\n",
       "      <th>3</th>\n",
       "      <td>Norway</td>\n",
       "      <td>Western Europe</td>\n",
       "      <td>4</td>\n",
       "      <td>7.522</td>\n",
       "      <td>0.03880</td>\n",
       "      <td>1.45900</td>\n",
       "      <td>1.33095</td>\n",
       "      <td>0.88521</td>\n",
       "      <td>0.66973</td>\n",
       "      <td>0.36503</td>\n",
       "      <td>0.34699</td>\n",
       "      <td>2.46531</td>\n",
       "    </tr>\n",
       "    <tr>\n",
       "      <th>4</th>\n",
       "      <td>Canada</td>\n",
       "      <td>North America</td>\n",
       "      <td>5</td>\n",
       "      <td>7.427</td>\n",
       "      <td>0.03553</td>\n",
       "      <td>1.32629</td>\n",
       "      <td>1.32261</td>\n",
       "      <td>0.90563</td>\n",
       "      <td>0.63297</td>\n",
       "      <td>0.32957</td>\n",
       "      <td>0.45811</td>\n",
       "      <td>2.45176</td>\n",
       "    </tr>\n",
       "  </tbody>\n",
       "</table>\n",
       "</div>"
      ],
      "text/plain": [
       "       Country          Region  Happiness Rank  Happiness Score  \\\n",
       "0  Switzerland  Western Europe               1            7.587   \n",
       "1      Iceland  Western Europe               2            7.561   \n",
       "2      Denmark  Western Europe               3            7.527   \n",
       "3       Norway  Western Europe               4            7.522   \n",
       "4       Canada   North America               5            7.427   \n",
       "\n",
       "   Standard Error  Economy (GDP per Capita)   Family  \\\n",
       "0         0.03411                   1.39651  1.34951   \n",
       "1         0.04884                   1.30232  1.40223   \n",
       "2         0.03328                   1.32548  1.36058   \n",
       "3         0.03880                   1.45900  1.33095   \n",
       "4         0.03553                   1.32629  1.32261   \n",
       "\n",
       "   Health (Life Expectancy)  Freedom  Trust (Government Corruption)  \\\n",
       "0                   0.94143  0.66557                        0.41978   \n",
       "1                   0.94784  0.62877                        0.14145   \n",
       "2                   0.87464  0.64938                        0.48357   \n",
       "3                   0.88521  0.66973                        0.36503   \n",
       "4                   0.90563  0.63297                        0.32957   \n",
       "\n",
       "   Generosity  Dystopia Residual  \n",
       "0     0.29678            2.51738  \n",
       "1     0.43630            2.70201  \n",
       "2     0.34139            2.49204  \n",
       "3     0.34699            2.46531  \n",
       "4     0.45811            2.45176  "
      ]
     },
     "execution_count": 5,
     "metadata": {},
     "output_type": "execute_result"
    }
   ],
   "source": [
    "df.head()#first 5 rows"
   ]
  },
  {
   "cell_type": "code",
   "execution_count": 6,
   "id": "45322caa",
   "metadata": {},
   "outputs": [
    {
     "data": {
      "text/html": [
       "<div>\n",
       "<style scoped>\n",
       "    .dataframe tbody tr th:only-of-type {\n",
       "        vertical-align: middle;\n",
       "    }\n",
       "\n",
       "    .dataframe tbody tr th {\n",
       "        vertical-align: top;\n",
       "    }\n",
       "\n",
       "    .dataframe thead th {\n",
       "        text-align: right;\n",
       "    }\n",
       "</style>\n",
       "<table border=\"1\" class=\"dataframe\">\n",
       "  <thead>\n",
       "    <tr style=\"text-align: right;\">\n",
       "      <th></th>\n",
       "      <th>Country</th>\n",
       "      <th>Region</th>\n",
       "      <th>Happiness Rank</th>\n",
       "      <th>Happiness Score</th>\n",
       "      <th>Standard Error</th>\n",
       "      <th>Economy (GDP per Capita)</th>\n",
       "      <th>Family</th>\n",
       "      <th>Health (Life Expectancy)</th>\n",
       "      <th>Freedom</th>\n",
       "      <th>Trust (Government Corruption)</th>\n",
       "      <th>Generosity</th>\n",
       "      <th>Dystopia Residual</th>\n",
       "    </tr>\n",
       "  </thead>\n",
       "  <tbody>\n",
       "    <tr>\n",
       "      <th>110</th>\n",
       "      <td>Ukraine</td>\n",
       "      <td>Central and Eastern Europe</td>\n",
       "      <td>111</td>\n",
       "      <td>4.681</td>\n",
       "      <td>0.04412</td>\n",
       "      <td>0.79907</td>\n",
       "      <td>1.20278</td>\n",
       "      <td>0.67390</td>\n",
       "      <td>0.25123</td>\n",
       "      <td>0.02961</td>\n",
       "      <td>0.15275</td>\n",
       "      <td>1.57140</td>\n",
       "    </tr>\n",
       "    <tr>\n",
       "      <th>111</th>\n",
       "      <td>Iraq</td>\n",
       "      <td>Middle East and Northern Africa</td>\n",
       "      <td>112</td>\n",
       "      <td>4.677</td>\n",
       "      <td>0.05232</td>\n",
       "      <td>0.98549</td>\n",
       "      <td>0.81889</td>\n",
       "      <td>0.60237</td>\n",
       "      <td>0.00000</td>\n",
       "      <td>0.13788</td>\n",
       "      <td>0.17922</td>\n",
       "      <td>1.95335</td>\n",
       "    </tr>\n",
       "    <tr>\n",
       "      <th>112</th>\n",
       "      <td>South Africa</td>\n",
       "      <td>Sub-Saharan Africa</td>\n",
       "      <td>113</td>\n",
       "      <td>4.642</td>\n",
       "      <td>0.04585</td>\n",
       "      <td>0.92049</td>\n",
       "      <td>1.18468</td>\n",
       "      <td>0.27688</td>\n",
       "      <td>0.33207</td>\n",
       "      <td>0.08884</td>\n",
       "      <td>0.11973</td>\n",
       "      <td>1.71956</td>\n",
       "    </tr>\n",
       "    <tr>\n",
       "      <th>113</th>\n",
       "      <td>Ghana</td>\n",
       "      <td>Sub-Saharan Africa</td>\n",
       "      <td>114</td>\n",
       "      <td>4.633</td>\n",
       "      <td>0.04742</td>\n",
       "      <td>0.54558</td>\n",
       "      <td>0.67954</td>\n",
       "      <td>0.40132</td>\n",
       "      <td>0.42342</td>\n",
       "      <td>0.04355</td>\n",
       "      <td>0.23087</td>\n",
       "      <td>2.30919</td>\n",
       "    </tr>\n",
       "    <tr>\n",
       "      <th>114</th>\n",
       "      <td>Zimbabwe</td>\n",
       "      <td>Sub-Saharan Africa</td>\n",
       "      <td>115</td>\n",
       "      <td>4.610</td>\n",
       "      <td>0.04290</td>\n",
       "      <td>0.27100</td>\n",
       "      <td>1.03276</td>\n",
       "      <td>0.33475</td>\n",
       "      <td>0.25861</td>\n",
       "      <td>0.08079</td>\n",
       "      <td>0.18987</td>\n",
       "      <td>2.44191</td>\n",
       "    </tr>\n",
       "    <tr>\n",
       "      <th>115</th>\n",
       "      <td>Liberia</td>\n",
       "      <td>Sub-Saharan Africa</td>\n",
       "      <td>116</td>\n",
       "      <td>4.571</td>\n",
       "      <td>0.11068</td>\n",
       "      <td>0.07120</td>\n",
       "      <td>0.78968</td>\n",
       "      <td>0.34201</td>\n",
       "      <td>0.28531</td>\n",
       "      <td>0.06232</td>\n",
       "      <td>0.24362</td>\n",
       "      <td>2.77729</td>\n",
       "    </tr>\n",
       "    <tr>\n",
       "      <th>116</th>\n",
       "      <td>India</td>\n",
       "      <td>Southern Asia</td>\n",
       "      <td>117</td>\n",
       "      <td>4.565</td>\n",
       "      <td>0.02043</td>\n",
       "      <td>0.64499</td>\n",
       "      <td>0.38174</td>\n",
       "      <td>0.51529</td>\n",
       "      <td>0.39786</td>\n",
       "      <td>0.08492</td>\n",
       "      <td>0.26475</td>\n",
       "      <td>2.27513</td>\n",
       "    </tr>\n",
       "    <tr>\n",
       "      <th>117</th>\n",
       "      <td>Sudan</td>\n",
       "      <td>Sub-Saharan Africa</td>\n",
       "      <td>118</td>\n",
       "      <td>4.550</td>\n",
       "      <td>0.06740</td>\n",
       "      <td>0.52107</td>\n",
       "      <td>1.01404</td>\n",
       "      <td>0.36878</td>\n",
       "      <td>0.10081</td>\n",
       "      <td>0.14660</td>\n",
       "      <td>0.19062</td>\n",
       "      <td>2.20857</td>\n",
       "    </tr>\n",
       "    <tr>\n",
       "      <th>118</th>\n",
       "      <td>Haiti</td>\n",
       "      <td>Latin America and Caribbean</td>\n",
       "      <td>119</td>\n",
       "      <td>4.518</td>\n",
       "      <td>0.07331</td>\n",
       "      <td>0.26673</td>\n",
       "      <td>0.74302</td>\n",
       "      <td>0.38847</td>\n",
       "      <td>0.24425</td>\n",
       "      <td>0.17175</td>\n",
       "      <td>0.46187</td>\n",
       "      <td>2.24173</td>\n",
       "    </tr>\n",
       "    <tr>\n",
       "      <th>119</th>\n",
       "      <td>Congo (Kinshasa)</td>\n",
       "      <td>Sub-Saharan Africa</td>\n",
       "      <td>120</td>\n",
       "      <td>4.517</td>\n",
       "      <td>0.03680</td>\n",
       "      <td>0.00000</td>\n",
       "      <td>1.00120</td>\n",
       "      <td>0.09806</td>\n",
       "      <td>0.22605</td>\n",
       "      <td>0.07625</td>\n",
       "      <td>0.24834</td>\n",
       "      <td>2.86712</td>\n",
       "    </tr>\n",
       "    <tr>\n",
       "      <th>120</th>\n",
       "      <td>Nepal</td>\n",
       "      <td>Southern Asia</td>\n",
       "      <td>121</td>\n",
       "      <td>4.514</td>\n",
       "      <td>0.03607</td>\n",
       "      <td>0.35997</td>\n",
       "      <td>0.86449</td>\n",
       "      <td>0.56874</td>\n",
       "      <td>0.38282</td>\n",
       "      <td>0.05907</td>\n",
       "      <td>0.32296</td>\n",
       "      <td>1.95637</td>\n",
       "    </tr>\n",
       "    <tr>\n",
       "      <th>121</th>\n",
       "      <td>Ethiopia</td>\n",
       "      <td>Sub-Saharan Africa</td>\n",
       "      <td>122</td>\n",
       "      <td>4.512</td>\n",
       "      <td>0.03780</td>\n",
       "      <td>0.19073</td>\n",
       "      <td>0.60406</td>\n",
       "      <td>0.44055</td>\n",
       "      <td>0.43450</td>\n",
       "      <td>0.15048</td>\n",
       "      <td>0.24325</td>\n",
       "      <td>2.44876</td>\n",
       "    </tr>\n",
       "    <tr>\n",
       "      <th>122</th>\n",
       "      <td>Sierra Leone</td>\n",
       "      <td>Sub-Saharan Africa</td>\n",
       "      <td>123</td>\n",
       "      <td>4.507</td>\n",
       "      <td>0.07068</td>\n",
       "      <td>0.33024</td>\n",
       "      <td>0.95571</td>\n",
       "      <td>0.00000</td>\n",
       "      <td>0.40840</td>\n",
       "      <td>0.08786</td>\n",
       "      <td>0.21488</td>\n",
       "      <td>2.51009</td>\n",
       "    </tr>\n",
       "    <tr>\n",
       "      <th>123</th>\n",
       "      <td>Mauritania</td>\n",
       "      <td>Sub-Saharan Africa</td>\n",
       "      <td>124</td>\n",
       "      <td>4.436</td>\n",
       "      <td>0.03947</td>\n",
       "      <td>0.45407</td>\n",
       "      <td>0.86908</td>\n",
       "      <td>0.35874</td>\n",
       "      <td>0.24232</td>\n",
       "      <td>0.17461</td>\n",
       "      <td>0.21900</td>\n",
       "      <td>2.11773</td>\n",
       "    </tr>\n",
       "    <tr>\n",
       "      <th>124</th>\n",
       "      <td>Kenya</td>\n",
       "      <td>Sub-Saharan Africa</td>\n",
       "      <td>125</td>\n",
       "      <td>4.419</td>\n",
       "      <td>0.04734</td>\n",
       "      <td>0.36471</td>\n",
       "      <td>0.99876</td>\n",
       "      <td>0.41435</td>\n",
       "      <td>0.42215</td>\n",
       "      <td>0.05839</td>\n",
       "      <td>0.37542</td>\n",
       "      <td>1.78555</td>\n",
       "    </tr>\n",
       "    <tr>\n",
       "      <th>125</th>\n",
       "      <td>Djibouti</td>\n",
       "      <td>Sub-Saharan Africa</td>\n",
       "      <td>126</td>\n",
       "      <td>4.369</td>\n",
       "      <td>0.08096</td>\n",
       "      <td>0.44025</td>\n",
       "      <td>0.59207</td>\n",
       "      <td>0.36291</td>\n",
       "      <td>0.46074</td>\n",
       "      <td>0.28105</td>\n",
       "      <td>0.18093</td>\n",
       "      <td>2.05125</td>\n",
       "    </tr>\n",
       "    <tr>\n",
       "      <th>126</th>\n",
       "      <td>Armenia</td>\n",
       "      <td>Central and Eastern Europe</td>\n",
       "      <td>127</td>\n",
       "      <td>4.350</td>\n",
       "      <td>0.04763</td>\n",
       "      <td>0.76821</td>\n",
       "      <td>0.77711</td>\n",
       "      <td>0.72990</td>\n",
       "      <td>0.19847</td>\n",
       "      <td>0.03900</td>\n",
       "      <td>0.07855</td>\n",
       "      <td>1.75873</td>\n",
       "    </tr>\n",
       "    <tr>\n",
       "      <th>127</th>\n",
       "      <td>Botswana</td>\n",
       "      <td>Sub-Saharan Africa</td>\n",
       "      <td>128</td>\n",
       "      <td>4.332</td>\n",
       "      <td>0.04934</td>\n",
       "      <td>0.99355</td>\n",
       "      <td>1.10464</td>\n",
       "      <td>0.04776</td>\n",
       "      <td>0.49495</td>\n",
       "      <td>0.12474</td>\n",
       "      <td>0.10461</td>\n",
       "      <td>1.46181</td>\n",
       "    </tr>\n",
       "    <tr>\n",
       "      <th>128</th>\n",
       "      <td>Myanmar</td>\n",
       "      <td>Southeastern Asia</td>\n",
       "      <td>129</td>\n",
       "      <td>4.307</td>\n",
       "      <td>0.04351</td>\n",
       "      <td>0.27108</td>\n",
       "      <td>0.70905</td>\n",
       "      <td>0.48246</td>\n",
       "      <td>0.44017</td>\n",
       "      <td>0.19034</td>\n",
       "      <td>0.79588</td>\n",
       "      <td>1.41805</td>\n",
       "    </tr>\n",
       "    <tr>\n",
       "      <th>129</th>\n",
       "      <td>Georgia</td>\n",
       "      <td>Central and Eastern Europe</td>\n",
       "      <td>130</td>\n",
       "      <td>4.297</td>\n",
       "      <td>0.04221</td>\n",
       "      <td>0.74190</td>\n",
       "      <td>0.38562</td>\n",
       "      <td>0.72926</td>\n",
       "      <td>0.40577</td>\n",
       "      <td>0.38331</td>\n",
       "      <td>0.05547</td>\n",
       "      <td>1.59541</td>\n",
       "    </tr>\n",
       "  </tbody>\n",
       "</table>\n",
       "</div>"
      ],
      "text/plain": [
       "              Country                           Region  Happiness Rank  \\\n",
       "110           Ukraine       Central and Eastern Europe             111   \n",
       "111              Iraq  Middle East and Northern Africa             112   \n",
       "112      South Africa               Sub-Saharan Africa             113   \n",
       "113             Ghana               Sub-Saharan Africa             114   \n",
       "114          Zimbabwe               Sub-Saharan Africa             115   \n",
       "115           Liberia               Sub-Saharan Africa             116   \n",
       "116             India                    Southern Asia             117   \n",
       "117             Sudan               Sub-Saharan Africa             118   \n",
       "118             Haiti      Latin America and Caribbean             119   \n",
       "119  Congo (Kinshasa)               Sub-Saharan Africa             120   \n",
       "120             Nepal                    Southern Asia             121   \n",
       "121          Ethiopia               Sub-Saharan Africa             122   \n",
       "122      Sierra Leone               Sub-Saharan Africa             123   \n",
       "123        Mauritania               Sub-Saharan Africa             124   \n",
       "124             Kenya               Sub-Saharan Africa             125   \n",
       "125          Djibouti               Sub-Saharan Africa             126   \n",
       "126           Armenia       Central and Eastern Europe             127   \n",
       "127          Botswana               Sub-Saharan Africa             128   \n",
       "128           Myanmar                Southeastern Asia             129   \n",
       "129           Georgia       Central and Eastern Europe             130   \n",
       "\n",
       "     Happiness Score  Standard Error  Economy (GDP per Capita)   Family  \\\n",
       "110            4.681         0.04412                   0.79907  1.20278   \n",
       "111            4.677         0.05232                   0.98549  0.81889   \n",
       "112            4.642         0.04585                   0.92049  1.18468   \n",
       "113            4.633         0.04742                   0.54558  0.67954   \n",
       "114            4.610         0.04290                   0.27100  1.03276   \n",
       "115            4.571         0.11068                   0.07120  0.78968   \n",
       "116            4.565         0.02043                   0.64499  0.38174   \n",
       "117            4.550         0.06740                   0.52107  1.01404   \n",
       "118            4.518         0.07331                   0.26673  0.74302   \n",
       "119            4.517         0.03680                   0.00000  1.00120   \n",
       "120            4.514         0.03607                   0.35997  0.86449   \n",
       "121            4.512         0.03780                   0.19073  0.60406   \n",
       "122            4.507         0.07068                   0.33024  0.95571   \n",
       "123            4.436         0.03947                   0.45407  0.86908   \n",
       "124            4.419         0.04734                   0.36471  0.99876   \n",
       "125            4.369         0.08096                   0.44025  0.59207   \n",
       "126            4.350         0.04763                   0.76821  0.77711   \n",
       "127            4.332         0.04934                   0.99355  1.10464   \n",
       "128            4.307         0.04351                   0.27108  0.70905   \n",
       "129            4.297         0.04221                   0.74190  0.38562   \n",
       "\n",
       "     Health (Life Expectancy)  Freedom  Trust (Government Corruption)  \\\n",
       "110                   0.67390  0.25123                        0.02961   \n",
       "111                   0.60237  0.00000                        0.13788   \n",
       "112                   0.27688  0.33207                        0.08884   \n",
       "113                   0.40132  0.42342                        0.04355   \n",
       "114                   0.33475  0.25861                        0.08079   \n",
       "115                   0.34201  0.28531                        0.06232   \n",
       "116                   0.51529  0.39786                        0.08492   \n",
       "117                   0.36878  0.10081                        0.14660   \n",
       "118                   0.38847  0.24425                        0.17175   \n",
       "119                   0.09806  0.22605                        0.07625   \n",
       "120                   0.56874  0.38282                        0.05907   \n",
       "121                   0.44055  0.43450                        0.15048   \n",
       "122                   0.00000  0.40840                        0.08786   \n",
       "123                   0.35874  0.24232                        0.17461   \n",
       "124                   0.41435  0.42215                        0.05839   \n",
       "125                   0.36291  0.46074                        0.28105   \n",
       "126                   0.72990  0.19847                        0.03900   \n",
       "127                   0.04776  0.49495                        0.12474   \n",
       "128                   0.48246  0.44017                        0.19034   \n",
       "129                   0.72926  0.40577                        0.38331   \n",
       "\n",
       "     Generosity  Dystopia Residual  \n",
       "110     0.15275            1.57140  \n",
       "111     0.17922            1.95335  \n",
       "112     0.11973            1.71956  \n",
       "113     0.23087            2.30919  \n",
       "114     0.18987            2.44191  \n",
       "115     0.24362            2.77729  \n",
       "116     0.26475            2.27513  \n",
       "117     0.19062            2.20857  \n",
       "118     0.46187            2.24173  \n",
       "119     0.24834            2.86712  \n",
       "120     0.32296            1.95637  \n",
       "121     0.24325            2.44876  \n",
       "122     0.21488            2.51009  \n",
       "123     0.21900            2.11773  \n",
       "124     0.37542            1.78555  \n",
       "125     0.18093            2.05125  \n",
       "126     0.07855            1.75873  \n",
       "127     0.10461            1.46181  \n",
       "128     0.79588            1.41805  \n",
       "129     0.05547            1.59541  "
      ]
     },
     "execution_count": 6,
     "metadata": {},
     "output_type": "execute_result"
    }
   ],
   "source": [
    "df[110:130]"
   ]
  },
  {
   "cell_type": "code",
   "execution_count": 7,
   "id": "740bff1f",
   "metadata": {},
   "outputs": [
    {
     "data": {
      "text/html": [
       "<div>\n",
       "<style scoped>\n",
       "    .dataframe tbody tr th:only-of-type {\n",
       "        vertical-align: middle;\n",
       "    }\n",
       "\n",
       "    .dataframe tbody tr th {\n",
       "        vertical-align: top;\n",
       "    }\n",
       "\n",
       "    .dataframe thead th {\n",
       "        text-align: right;\n",
       "    }\n",
       "</style>\n",
       "<table border=\"1\" class=\"dataframe\">\n",
       "  <thead>\n",
       "    <tr style=\"text-align: right;\">\n",
       "      <th></th>\n",
       "      <th>Country</th>\n",
       "      <th>Region</th>\n",
       "      <th>Happiness Rank</th>\n",
       "      <th>Happiness Score</th>\n",
       "      <th>Standard Error</th>\n",
       "      <th>Economy (GDP per Capita)</th>\n",
       "      <th>Family</th>\n",
       "      <th>Health (Life Expectancy)</th>\n",
       "      <th>Freedom</th>\n",
       "      <th>Trust (Government Corruption)</th>\n",
       "      <th>Generosity</th>\n",
       "      <th>Dystopia Residual</th>\n",
       "    </tr>\n",
       "  </thead>\n",
       "  <tbody>\n",
       "    <tr>\n",
       "      <th>153</th>\n",
       "      <td>Rwanda</td>\n",
       "      <td>Sub-Saharan Africa</td>\n",
       "      <td>154</td>\n",
       "      <td>3.465</td>\n",
       "      <td>0.03464</td>\n",
       "      <td>0.22208</td>\n",
       "      <td>0.77370</td>\n",
       "      <td>0.42864</td>\n",
       "      <td>0.59201</td>\n",
       "      <td>0.55191</td>\n",
       "      <td>0.22628</td>\n",
       "      <td>0.67042</td>\n",
       "    </tr>\n",
       "    <tr>\n",
       "      <th>154</th>\n",
       "      <td>Benin</td>\n",
       "      <td>Sub-Saharan Africa</td>\n",
       "      <td>155</td>\n",
       "      <td>3.340</td>\n",
       "      <td>0.03656</td>\n",
       "      <td>0.28665</td>\n",
       "      <td>0.35386</td>\n",
       "      <td>0.31910</td>\n",
       "      <td>0.48450</td>\n",
       "      <td>0.08010</td>\n",
       "      <td>0.18260</td>\n",
       "      <td>1.63328</td>\n",
       "    </tr>\n",
       "    <tr>\n",
       "      <th>155</th>\n",
       "      <td>Syria</td>\n",
       "      <td>Middle East and Northern Africa</td>\n",
       "      <td>156</td>\n",
       "      <td>3.006</td>\n",
       "      <td>0.05015</td>\n",
       "      <td>0.66320</td>\n",
       "      <td>0.47489</td>\n",
       "      <td>0.72193</td>\n",
       "      <td>0.15684</td>\n",
       "      <td>0.18906</td>\n",
       "      <td>0.47179</td>\n",
       "      <td>0.32858</td>\n",
       "    </tr>\n",
       "    <tr>\n",
       "      <th>156</th>\n",
       "      <td>Burundi</td>\n",
       "      <td>Sub-Saharan Africa</td>\n",
       "      <td>157</td>\n",
       "      <td>2.905</td>\n",
       "      <td>0.08658</td>\n",
       "      <td>0.01530</td>\n",
       "      <td>0.41587</td>\n",
       "      <td>0.22396</td>\n",
       "      <td>0.11850</td>\n",
       "      <td>0.10062</td>\n",
       "      <td>0.19727</td>\n",
       "      <td>1.83302</td>\n",
       "    </tr>\n",
       "    <tr>\n",
       "      <th>157</th>\n",
       "      <td>Togo</td>\n",
       "      <td>Sub-Saharan Africa</td>\n",
       "      <td>158</td>\n",
       "      <td>2.839</td>\n",
       "      <td>0.06727</td>\n",
       "      <td>0.20868</td>\n",
       "      <td>0.13995</td>\n",
       "      <td>0.28443</td>\n",
       "      <td>0.36453</td>\n",
       "      <td>0.10731</td>\n",
       "      <td>0.16681</td>\n",
       "      <td>1.56726</td>\n",
       "    </tr>\n",
       "  </tbody>\n",
       "</table>\n",
       "</div>"
      ],
      "text/plain": [
       "     Country                           Region  Happiness Rank  \\\n",
       "153   Rwanda               Sub-Saharan Africa             154   \n",
       "154    Benin               Sub-Saharan Africa             155   \n",
       "155    Syria  Middle East and Northern Africa             156   \n",
       "156  Burundi               Sub-Saharan Africa             157   \n",
       "157     Togo               Sub-Saharan Africa             158   \n",
       "\n",
       "     Happiness Score  Standard Error  Economy (GDP per Capita)   Family  \\\n",
       "153            3.465         0.03464                   0.22208  0.77370   \n",
       "154            3.340         0.03656                   0.28665  0.35386   \n",
       "155            3.006         0.05015                   0.66320  0.47489   \n",
       "156            2.905         0.08658                   0.01530  0.41587   \n",
       "157            2.839         0.06727                   0.20868  0.13995   \n",
       "\n",
       "     Health (Life Expectancy)  Freedom  Trust (Government Corruption)  \\\n",
       "153                   0.42864  0.59201                        0.55191   \n",
       "154                   0.31910  0.48450                        0.08010   \n",
       "155                   0.72193  0.15684                        0.18906   \n",
       "156                   0.22396  0.11850                        0.10062   \n",
       "157                   0.28443  0.36453                        0.10731   \n",
       "\n",
       "     Generosity  Dystopia Residual  \n",
       "153     0.22628            0.67042  \n",
       "154     0.18260            1.63328  \n",
       "155     0.47179            0.32858  \n",
       "156     0.19727            1.83302  \n",
       "157     0.16681            1.56726  "
      ]
     },
     "execution_count": 7,
     "metadata": {},
     "output_type": "execute_result"
    }
   ],
   "source": [
    "df.tail()#last five rows"
   ]
  },
  {
   "cell_type": "markdown",
   "id": "e1e443fe",
   "metadata": {},
   "source": [
    "In the earlier step, we extracted the first and last 5 rows of our dataset to understand its size and structure. We've recognized the Happiness Score as our target label, with the other columns serving as features for predicting this score.\n",
    "\n",
    "However, I believe the categorical columns are unnecessary, and the Happiness Rank seems unimportant for predicting the Happiness Score. Further examination will validate these suspicions, leading to the removal of irrelevant columns.\n",
    "\n",
    "**Since the Happiness Score is continuous, our task shifts to Regression analysis.**"
   ]
  },
  {
   "cell_type": "markdown",
   "id": "770e65de",
   "metadata": {},
   "source": [
    "# 3.Exploratory Data Analysis (EDA)"
   ]
  },
  {
   "cell_type": "code",
   "execution_count": 8,
   "id": "819c384d",
   "metadata": {},
   "outputs": [
    {
     "data": {
      "text/plain": [
       "(158, 12)"
      ]
     },
     "execution_count": 8,
     "metadata": {},
     "output_type": "execute_result"
    }
   ],
   "source": [
    "df.shape"
   ]
  },
  {
   "cell_type": "markdown",
   "id": "40c5e8ba",
   "metadata": {},
   "source": [
    "dataset comprises a total of 158 rows and 12 columns."
   ]
  },
  {
   "cell_type": "code",
   "execution_count": 9,
   "id": "9a1e0eeb",
   "metadata": {},
   "outputs": [
    {
     "name": "stdout",
     "output_type": "stream",
     "text": [
      "<class 'pandas.core.frame.DataFrame'>\n",
      "RangeIndex: 158 entries, 0 to 157\n",
      "Data columns (total 12 columns):\n",
      " #   Column                         Non-Null Count  Dtype  \n",
      "---  ------                         --------------  -----  \n",
      " 0   Country                        158 non-null    object \n",
      " 1   Region                         158 non-null    object \n",
      " 2   Happiness Rank                 158 non-null    int64  \n",
      " 3   Happiness Score                158 non-null    float64\n",
      " 4   Standard Error                 158 non-null    float64\n",
      " 5   Economy (GDP per Capita)       158 non-null    float64\n",
      " 6   Family                         158 non-null    float64\n",
      " 7   Health (Life Expectancy)       158 non-null    float64\n",
      " 8   Freedom                        158 non-null    float64\n",
      " 9   Trust (Government Corruption)  158 non-null    float64\n",
      " 10  Generosity                     158 non-null    float64\n",
      " 11  Dystopia Residual              158 non-null    float64\n",
      "dtypes: float64(9), int64(1), object(2)\n",
      "memory usage: 14.9+ KB\n"
     ]
    }
   ],
   "source": [
    "df.info()"
   ]
  },
  {
   "cell_type": "markdown",
   "id": "7a933f55",
   "metadata": {},
   "source": [
    " I observe that there are 2 columns characterized by the object data type, 1 column with integer data type, and the remaining columns consist of float data types."
   ]
  },
  {
   "cell_type": "code",
   "execution_count": 10,
   "id": "f9d407b8",
   "metadata": {},
   "outputs": [
    {
     "data": {
      "text/html": [
       "<div>\n",
       "<style scoped>\n",
       "    .dataframe tbody tr th:only-of-type {\n",
       "        vertical-align: middle;\n",
       "    }\n",
       "\n",
       "    .dataframe tbody tr th {\n",
       "        vertical-align: top;\n",
       "    }\n",
       "\n",
       "    .dataframe thead th {\n",
       "        text-align: right;\n",
       "    }\n",
       "</style>\n",
       "<table border=\"1\" class=\"dataframe\">\n",
       "  <thead>\n",
       "    <tr style=\"text-align: right;\">\n",
       "      <th></th>\n",
       "      <th>Happiness Rank</th>\n",
       "      <th>Happiness Score</th>\n",
       "      <th>Standard Error</th>\n",
       "      <th>Economy (GDP per Capita)</th>\n",
       "      <th>Family</th>\n",
       "      <th>Health (Life Expectancy)</th>\n",
       "      <th>Freedom</th>\n",
       "      <th>Trust (Government Corruption)</th>\n",
       "      <th>Generosity</th>\n",
       "      <th>Dystopia Residual</th>\n",
       "    </tr>\n",
       "  </thead>\n",
       "  <tbody>\n",
       "    <tr>\n",
       "      <th>count</th>\n",
       "      <td>158.000000</td>\n",
       "      <td>158.000000</td>\n",
       "      <td>158.000000</td>\n",
       "      <td>158.000000</td>\n",
       "      <td>158.000000</td>\n",
       "      <td>158.000000</td>\n",
       "      <td>158.000000</td>\n",
       "      <td>158.000000</td>\n",
       "      <td>158.000000</td>\n",
       "      <td>158.000000</td>\n",
       "    </tr>\n",
       "    <tr>\n",
       "      <th>mean</th>\n",
       "      <td>79.493671</td>\n",
       "      <td>5.375734</td>\n",
       "      <td>0.047885</td>\n",
       "      <td>0.846137</td>\n",
       "      <td>0.991046</td>\n",
       "      <td>0.630259</td>\n",
       "      <td>0.428615</td>\n",
       "      <td>0.143422</td>\n",
       "      <td>0.237296</td>\n",
       "      <td>2.098977</td>\n",
       "    </tr>\n",
       "    <tr>\n",
       "      <th>std</th>\n",
       "      <td>45.754363</td>\n",
       "      <td>1.145010</td>\n",
       "      <td>0.017146</td>\n",
       "      <td>0.403121</td>\n",
       "      <td>0.272369</td>\n",
       "      <td>0.247078</td>\n",
       "      <td>0.150693</td>\n",
       "      <td>0.120034</td>\n",
       "      <td>0.126685</td>\n",
       "      <td>0.553550</td>\n",
       "    </tr>\n",
       "    <tr>\n",
       "      <th>min</th>\n",
       "      <td>1.000000</td>\n",
       "      <td>2.839000</td>\n",
       "      <td>0.018480</td>\n",
       "      <td>0.000000</td>\n",
       "      <td>0.000000</td>\n",
       "      <td>0.000000</td>\n",
       "      <td>0.000000</td>\n",
       "      <td>0.000000</td>\n",
       "      <td>0.000000</td>\n",
       "      <td>0.328580</td>\n",
       "    </tr>\n",
       "    <tr>\n",
       "      <th>25%</th>\n",
       "      <td>40.250000</td>\n",
       "      <td>4.526000</td>\n",
       "      <td>0.037268</td>\n",
       "      <td>0.545808</td>\n",
       "      <td>0.856823</td>\n",
       "      <td>0.439185</td>\n",
       "      <td>0.328330</td>\n",
       "      <td>0.061675</td>\n",
       "      <td>0.150553</td>\n",
       "      <td>1.759410</td>\n",
       "    </tr>\n",
       "    <tr>\n",
       "      <th>50%</th>\n",
       "      <td>79.500000</td>\n",
       "      <td>5.232500</td>\n",
       "      <td>0.043940</td>\n",
       "      <td>0.910245</td>\n",
       "      <td>1.029510</td>\n",
       "      <td>0.696705</td>\n",
       "      <td>0.435515</td>\n",
       "      <td>0.107220</td>\n",
       "      <td>0.216130</td>\n",
       "      <td>2.095415</td>\n",
       "    </tr>\n",
       "    <tr>\n",
       "      <th>75%</th>\n",
       "      <td>118.750000</td>\n",
       "      <td>6.243750</td>\n",
       "      <td>0.052300</td>\n",
       "      <td>1.158448</td>\n",
       "      <td>1.214405</td>\n",
       "      <td>0.811013</td>\n",
       "      <td>0.549092</td>\n",
       "      <td>0.180255</td>\n",
       "      <td>0.309883</td>\n",
       "      <td>2.462415</td>\n",
       "    </tr>\n",
       "    <tr>\n",
       "      <th>max</th>\n",
       "      <td>158.000000</td>\n",
       "      <td>7.587000</td>\n",
       "      <td>0.136930</td>\n",
       "      <td>1.690420</td>\n",
       "      <td>1.402230</td>\n",
       "      <td>1.025250</td>\n",
       "      <td>0.669730</td>\n",
       "      <td>0.551910</td>\n",
       "      <td>0.795880</td>\n",
       "      <td>3.602140</td>\n",
       "    </tr>\n",
       "  </tbody>\n",
       "</table>\n",
       "</div>"
      ],
      "text/plain": [
       "       Happiness Rank  Happiness Score  Standard Error  \\\n",
       "count      158.000000       158.000000      158.000000   \n",
       "mean        79.493671         5.375734        0.047885   \n",
       "std         45.754363         1.145010        0.017146   \n",
       "min          1.000000         2.839000        0.018480   \n",
       "25%         40.250000         4.526000        0.037268   \n",
       "50%         79.500000         5.232500        0.043940   \n",
       "75%        118.750000         6.243750        0.052300   \n",
       "max        158.000000         7.587000        0.136930   \n",
       "\n",
       "       Economy (GDP per Capita)      Family  Health (Life Expectancy)  \\\n",
       "count                158.000000  158.000000                158.000000   \n",
       "mean                   0.846137    0.991046                  0.630259   \n",
       "std                    0.403121    0.272369                  0.247078   \n",
       "min                    0.000000    0.000000                  0.000000   \n",
       "25%                    0.545808    0.856823                  0.439185   \n",
       "50%                    0.910245    1.029510                  0.696705   \n",
       "75%                    1.158448    1.214405                  0.811013   \n",
       "max                    1.690420    1.402230                  1.025250   \n",
       "\n",
       "          Freedom  Trust (Government Corruption)  Generosity  \\\n",
       "count  158.000000                     158.000000  158.000000   \n",
       "mean     0.428615                       0.143422    0.237296   \n",
       "std      0.150693                       0.120034    0.126685   \n",
       "min      0.000000                       0.000000    0.000000   \n",
       "25%      0.328330                       0.061675    0.150553   \n",
       "50%      0.435515                       0.107220    0.216130   \n",
       "75%      0.549092                       0.180255    0.309883   \n",
       "max      0.669730                       0.551910    0.795880   \n",
       "\n",
       "       Dystopia Residual  \n",
       "count         158.000000  \n",
       "mean            2.098977  \n",
       "std             0.553550  \n",
       "min             0.328580  \n",
       "25%             1.759410  \n",
       "50%             2.095415  \n",
       "75%             2.462415  \n",
       "max             3.602140  "
      ]
     },
     "execution_count": 10,
     "metadata": {},
     "output_type": "execute_result"
    }
   ],
   "source": [
    "df.describe()"
   ]
  },
  {
   "cell_type": "markdown",
   "id": "ac284163",
   "metadata": {},
   "source": [
    "Using the `df.describe()` function, we've identified that some countries have minimum values of 0 in certain categories. Let's proceed to find the country at the bottom of each respective category."
   ]
  },
  {
   "cell_type": "code",
   "execution_count": 11,
   "id": "a609bf78",
   "metadata": {},
   "outputs": [
    {
     "data": {
      "text/html": [
       "<div>\n",
       "<style scoped>\n",
       "    .dataframe tbody tr th:only-of-type {\n",
       "        vertical-align: middle;\n",
       "    }\n",
       "\n",
       "    .dataframe tbody tr th {\n",
       "        vertical-align: top;\n",
       "    }\n",
       "\n",
       "    .dataframe thead th {\n",
       "        text-align: right;\n",
       "    }\n",
       "</style>\n",
       "<table border=\"1\" class=\"dataframe\">\n",
       "  <thead>\n",
       "    <tr style=\"text-align: right;\">\n",
       "      <th></th>\n",
       "      <th>Country</th>\n",
       "      <th>Region</th>\n",
       "      <th>Happiness Rank</th>\n",
       "      <th>Happiness Score</th>\n",
       "      <th>Standard Error</th>\n",
       "      <th>Economy (GDP per Capita)</th>\n",
       "      <th>Family</th>\n",
       "      <th>Health (Life Expectancy)</th>\n",
       "      <th>Freedom</th>\n",
       "      <th>Trust (Government Corruption)</th>\n",
       "      <th>Generosity</th>\n",
       "      <th>Dystopia Residual</th>\n",
       "    </tr>\n",
       "  </thead>\n",
       "  <tbody>\n",
       "    <tr>\n",
       "      <th>122</th>\n",
       "      <td>Sierra Leone</td>\n",
       "      <td>Sub-Saharan Africa</td>\n",
       "      <td>123</td>\n",
       "      <td>4.507</td>\n",
       "      <td>0.07068</td>\n",
       "      <td>0.33024</td>\n",
       "      <td>0.95571</td>\n",
       "      <td>0.0</td>\n",
       "      <td>0.4084</td>\n",
       "      <td>0.08786</td>\n",
       "      <td>0.21488</td>\n",
       "      <td>2.51009</td>\n",
       "    </tr>\n",
       "  </tbody>\n",
       "</table>\n",
       "</div>"
      ],
      "text/plain": [
       "          Country              Region  Happiness Rank  Happiness Score  \\\n",
       "122  Sierra Leone  Sub-Saharan Africa             123            4.507   \n",
       "\n",
       "     Standard Error  Economy (GDP per Capita)   Family  \\\n",
       "122         0.07068                   0.33024  0.95571   \n",
       "\n",
       "     Health (Life Expectancy)  Freedom  Trust (Government Corruption)  \\\n",
       "122                       0.0   0.4084                        0.08786   \n",
       "\n",
       "     Generosity  Dystopia Residual  \n",
       "122     0.21488            2.51009  "
      ]
     },
     "execution_count": 11,
     "metadata": {},
     "output_type": "execute_result"
    }
   ],
   "source": [
    "df.loc[df['Health (Life Expectancy)']==0.0]"
   ]
  },
  {
   "cell_type": "code",
   "execution_count": 12,
   "id": "d9dc2f47",
   "metadata": {},
   "outputs": [
    {
     "data": {
      "text/html": [
       "<div>\n",
       "<style scoped>\n",
       "    .dataframe tbody tr th:only-of-type {\n",
       "        vertical-align: middle;\n",
       "    }\n",
       "\n",
       "    .dataframe tbody tr th {\n",
       "        vertical-align: top;\n",
       "    }\n",
       "\n",
       "    .dataframe thead th {\n",
       "        text-align: right;\n",
       "    }\n",
       "</style>\n",
       "<table border=\"1\" class=\"dataframe\">\n",
       "  <thead>\n",
       "    <tr style=\"text-align: right;\">\n",
       "      <th></th>\n",
       "      <th>Country</th>\n",
       "      <th>Region</th>\n",
       "      <th>Happiness Rank</th>\n",
       "      <th>Happiness Score</th>\n",
       "      <th>Standard Error</th>\n",
       "      <th>Economy (GDP per Capita)</th>\n",
       "      <th>Family</th>\n",
       "      <th>Health (Life Expectancy)</th>\n",
       "      <th>Freedom</th>\n",
       "      <th>Trust (Government Corruption)</th>\n",
       "      <th>Generosity</th>\n",
       "      <th>Dystopia Residual</th>\n",
       "    </tr>\n",
       "  </thead>\n",
       "  <tbody>\n",
       "    <tr>\n",
       "      <th>119</th>\n",
       "      <td>Congo (Kinshasa)</td>\n",
       "      <td>Sub-Saharan Africa</td>\n",
       "      <td>120</td>\n",
       "      <td>4.517</td>\n",
       "      <td>0.0368</td>\n",
       "      <td>0.0</td>\n",
       "      <td>1.0012</td>\n",
       "      <td>0.09806</td>\n",
       "      <td>0.22605</td>\n",
       "      <td>0.07625</td>\n",
       "      <td>0.24834</td>\n",
       "      <td>2.86712</td>\n",
       "    </tr>\n",
       "  </tbody>\n",
       "</table>\n",
       "</div>"
      ],
      "text/plain": [
       "              Country              Region  Happiness Rank  Happiness Score  \\\n",
       "119  Congo (Kinshasa)  Sub-Saharan Africa             120            4.517   \n",
       "\n",
       "     Standard Error  Economy (GDP per Capita)  Family  \\\n",
       "119          0.0368                       0.0  1.0012   \n",
       "\n",
       "     Health (Life Expectancy)  Freedom  Trust (Government Corruption)  \\\n",
       "119                   0.09806  0.22605                        0.07625   \n",
       "\n",
       "     Generosity  Dystopia Residual  \n",
       "119     0.24834            2.86712  "
      ]
     },
     "execution_count": 12,
     "metadata": {},
     "output_type": "execute_result"
    }
   ],
   "source": [
    "df.loc[df['Economy (GDP per Capita)']==0.0]"
   ]
  },
  {
   "cell_type": "code",
   "execution_count": 13,
   "id": "276f2a1e",
   "metadata": {},
   "outputs": [
    {
     "data": {
      "text/html": [
       "<div>\n",
       "<style scoped>\n",
       "    .dataframe tbody tr th:only-of-type {\n",
       "        vertical-align: middle;\n",
       "    }\n",
       "\n",
       "    .dataframe tbody tr th {\n",
       "        vertical-align: top;\n",
       "    }\n",
       "\n",
       "    .dataframe thead th {\n",
       "        text-align: right;\n",
       "    }\n",
       "</style>\n",
       "<table border=\"1\" class=\"dataframe\">\n",
       "  <thead>\n",
       "    <tr style=\"text-align: right;\">\n",
       "      <th></th>\n",
       "      <th>Country</th>\n",
       "      <th>Region</th>\n",
       "      <th>Happiness Rank</th>\n",
       "      <th>Happiness Score</th>\n",
       "      <th>Standard Error</th>\n",
       "      <th>Economy (GDP per Capita)</th>\n",
       "      <th>Family</th>\n",
       "      <th>Health (Life Expectancy)</th>\n",
       "      <th>Freedom</th>\n",
       "      <th>Trust (Government Corruption)</th>\n",
       "      <th>Generosity</th>\n",
       "      <th>Dystopia Residual</th>\n",
       "    </tr>\n",
       "  </thead>\n",
       "  <tbody>\n",
       "    <tr>\n",
       "      <th>111</th>\n",
       "      <td>Iraq</td>\n",
       "      <td>Middle East and Northern Africa</td>\n",
       "      <td>112</td>\n",
       "      <td>4.677</td>\n",
       "      <td>0.05232</td>\n",
       "      <td>0.98549</td>\n",
       "      <td>0.81889</td>\n",
       "      <td>0.60237</td>\n",
       "      <td>0.0</td>\n",
       "      <td>0.13788</td>\n",
       "      <td>0.17922</td>\n",
       "      <td>1.95335</td>\n",
       "    </tr>\n",
       "  </tbody>\n",
       "</table>\n",
       "</div>"
      ],
      "text/plain": [
       "    Country                           Region  Happiness Rank  Happiness Score  \\\n",
       "111    Iraq  Middle East and Northern Africa             112            4.677   \n",
       "\n",
       "     Standard Error  Economy (GDP per Capita)   Family  \\\n",
       "111         0.05232                   0.98549  0.81889   \n",
       "\n",
       "     Health (Life Expectancy)  Freedom  Trust (Government Corruption)  \\\n",
       "111                   0.60237      0.0                        0.13788   \n",
       "\n",
       "     Generosity  Dystopia Residual  \n",
       "111     0.17922            1.95335  "
      ]
     },
     "execution_count": 13,
     "metadata": {},
     "output_type": "execute_result"
    }
   ],
   "source": [
    "df.loc[df['Freedom']==0.0]"
   ]
  },
  {
   "cell_type": "code",
   "execution_count": 14,
   "id": "520b0de5",
   "metadata": {},
   "outputs": [
    {
     "data": {
      "text/html": [
       "<div>\n",
       "<style scoped>\n",
       "    .dataframe tbody tr th:only-of-type {\n",
       "        vertical-align: middle;\n",
       "    }\n",
       "\n",
       "    .dataframe tbody tr th {\n",
       "        vertical-align: top;\n",
       "    }\n",
       "\n",
       "    .dataframe thead th {\n",
       "        text-align: right;\n",
       "    }\n",
       "</style>\n",
       "<table border=\"1\" class=\"dataframe\">\n",
       "  <thead>\n",
       "    <tr style=\"text-align: right;\">\n",
       "      <th></th>\n",
       "      <th>Country</th>\n",
       "      <th>Region</th>\n",
       "      <th>Happiness Rank</th>\n",
       "      <th>Happiness Score</th>\n",
       "      <th>Standard Error</th>\n",
       "      <th>Economy (GDP per Capita)</th>\n",
       "      <th>Family</th>\n",
       "      <th>Health (Life Expectancy)</th>\n",
       "      <th>Freedom</th>\n",
       "      <th>Trust (Government Corruption)</th>\n",
       "      <th>Generosity</th>\n",
       "      <th>Dystopia Residual</th>\n",
       "    </tr>\n",
       "  </thead>\n",
       "  <tbody>\n",
       "    <tr>\n",
       "      <th>73</th>\n",
       "      <td>Indonesia</td>\n",
       "      <td>Southeastern Asia</td>\n",
       "      <td>74</td>\n",
       "      <td>5.399</td>\n",
       "      <td>0.02596</td>\n",
       "      <td>0.82827</td>\n",
       "      <td>1.08708</td>\n",
       "      <td>0.63793</td>\n",
       "      <td>0.46611</td>\n",
       "      <td>0.0</td>\n",
       "      <td>0.51535</td>\n",
       "      <td>1.86399</td>\n",
       "    </tr>\n",
       "  </tbody>\n",
       "</table>\n",
       "</div>"
      ],
      "text/plain": [
       "      Country             Region  Happiness Rank  Happiness Score  \\\n",
       "73  Indonesia  Southeastern Asia              74            5.399   \n",
       "\n",
       "    Standard Error  Economy (GDP per Capita)   Family  \\\n",
       "73         0.02596                   0.82827  1.08708   \n",
       "\n",
       "    Health (Life Expectancy)  Freedom  Trust (Government Corruption)  \\\n",
       "73                   0.63793  0.46611                            0.0   \n",
       "\n",
       "    Generosity  Dystopia Residual  \n",
       "73     0.51535            1.86399  "
      ]
     },
     "execution_count": 14,
     "metadata": {},
     "output_type": "execute_result"
    }
   ],
   "source": [
    "df.loc[df['Trust (Government Corruption)']==0.0]"
   ]
  },
  {
   "cell_type": "code",
   "execution_count": 15,
   "id": "12d36f05",
   "metadata": {},
   "outputs": [
    {
     "data": {
      "text/html": [
       "<div>\n",
       "<style scoped>\n",
       "    .dataframe tbody tr th:only-of-type {\n",
       "        vertical-align: middle;\n",
       "    }\n",
       "\n",
       "    .dataframe tbody tr th {\n",
       "        vertical-align: top;\n",
       "    }\n",
       "\n",
       "    .dataframe thead th {\n",
       "        text-align: right;\n",
       "    }\n",
       "</style>\n",
       "<table border=\"1\" class=\"dataframe\">\n",
       "  <thead>\n",
       "    <tr style=\"text-align: right;\">\n",
       "      <th></th>\n",
       "      <th>Country</th>\n",
       "      <th>Region</th>\n",
       "      <th>Happiness Rank</th>\n",
       "      <th>Happiness Score</th>\n",
       "      <th>Standard Error</th>\n",
       "      <th>Economy (GDP per Capita)</th>\n",
       "      <th>Family</th>\n",
       "      <th>Health (Life Expectancy)</th>\n",
       "      <th>Freedom</th>\n",
       "      <th>Trust (Government Corruption)</th>\n",
       "      <th>Generosity</th>\n",
       "      <th>Dystopia Residual</th>\n",
       "    </tr>\n",
       "  </thead>\n",
       "  <tbody>\n",
       "    <tr>\n",
       "      <th>101</th>\n",
       "      <td>Greece</td>\n",
       "      <td>Western Europe</td>\n",
       "      <td>102</td>\n",
       "      <td>4.857</td>\n",
       "      <td>0.05062</td>\n",
       "      <td>1.15406</td>\n",
       "      <td>0.92933</td>\n",
       "      <td>0.88213</td>\n",
       "      <td>0.07699</td>\n",
       "      <td>0.01397</td>\n",
       "      <td>0.0</td>\n",
       "      <td>1.80101</td>\n",
       "    </tr>\n",
       "  </tbody>\n",
       "</table>\n",
       "</div>"
      ],
      "text/plain": [
       "    Country          Region  Happiness Rank  Happiness Score  Standard Error  \\\n",
       "101  Greece  Western Europe             102            4.857         0.05062   \n",
       "\n",
       "     Economy (GDP per Capita)   Family  Health (Life Expectancy)  Freedom  \\\n",
       "101                   1.15406  0.92933                   0.88213  0.07699   \n",
       "\n",
       "     Trust (Government Corruption)  Generosity  Dystopia Residual  \n",
       "101                        0.01397         0.0            1.80101  "
      ]
     },
     "execution_count": 15,
     "metadata": {},
     "output_type": "execute_result"
    }
   ],
   "source": [
    "df.loc[df['Generosity']==0.0]"
   ]
  },
  {
   "cell_type": "markdown",
   "id": "3e1311a3",
   "metadata": {},
   "source": [
    "Minimum Performance category wise\n",
    "\n",
    "Health (Life Expectancy) -Sierra Leone\n",
    "\n",
    "Economy (GDP per Capita)- Congo (Kinshasa)\n",
    "\n",
    "Freedom - Iraq\n",
    "\n",
    "Trust (Government Corruption) - Indonesia"
   ]
  },
  {
   "cell_type": "code",
   "execution_count": 16,
   "id": "054c4acc",
   "metadata": {},
   "outputs": [
    {
     "data": {
      "text/plain": [
       "Country                          158\n",
       "Region                            10\n",
       "Happiness Rank                   157\n",
       "Happiness Score                  157\n",
       "Standard Error                   153\n",
       "Economy (GDP per Capita)         158\n",
       "Family                           158\n",
       "Health (Life Expectancy)         157\n",
       "Freedom                          158\n",
       "Trust (Government Corruption)    157\n",
       "Generosity                       158\n",
       "Dystopia Residual                158\n",
       "dtype: int64"
      ]
     },
     "execution_count": 16,
     "metadata": {},
     "output_type": "execute_result"
    }
   ],
   "source": [
    "# checking unique values\n",
    "df.nunique()"
   ]
  },
  {
   "cell_type": "markdown",
   "id": "323ca9e4",
   "metadata": {},
   "source": [
    "There are 10 unique values present in the 'region' category, while other categories have over 150 unique values"
   ]
  },
  {
   "cell_type": "code",
   "execution_count": 17,
   "id": "7f90a1d7",
   "metadata": {},
   "outputs": [
    {
     "name": "stdout",
     "output_type": "stream",
     "text": [
      "Country\n",
      "Switzerland    1\n",
      "Bangladesh     1\n",
      "Greece         1\n",
      "Lebanon        1\n",
      "Hungary        1\n",
      "              ..\n",
      "Kazakhstan     1\n",
      "Slovenia       1\n",
      "Lithuania      1\n",
      "Nicaragua      1\n",
      "Togo           1\n",
      "Name: count, Length: 158, dtype: int64\n",
      "\n",
      "\n",
      "Region\n",
      "Sub-Saharan Africa                 40\n",
      "Central and Eastern Europe         29\n",
      "Latin America and Caribbean        22\n",
      "Western Europe                     21\n",
      "Middle East and Northern Africa    20\n",
      "Southeastern Asia                   9\n",
      "Southern Asia                       7\n",
      "Eastern Asia                        6\n",
      "North America                       2\n",
      "Australia and New Zealand           2\n",
      "Name: count, dtype: int64\n",
      "\n",
      "\n",
      "Happiness Rank\n",
      "82     2\n",
      "1      1\n",
      "110    1\n",
      "103    1\n",
      "104    1\n",
      "      ..\n",
      "54     1\n",
      "55     1\n",
      "56     1\n",
      "57     1\n",
      "158    1\n",
      "Name: count, Length: 157, dtype: int64\n",
      "\n",
      "\n",
      "Happiness Score\n",
      "5.192    2\n",
      "7.587    1\n",
      "4.686    1\n",
      "4.839    1\n",
      "4.800    1\n",
      "        ..\n",
      "5.855    1\n",
      "5.848    1\n",
      "5.833    1\n",
      "5.828    1\n",
      "2.839    1\n",
      "Name: count, Length: 157, dtype: int64\n",
      "\n",
      "\n",
      "Standard Error\n",
      "0.03780    2\n",
      "0.03751    2\n",
      "0.04394    2\n",
      "0.05051    2\n",
      "0.04934    2\n",
      "          ..\n",
      "0.04114    1\n",
      "0.04251    1\n",
      "0.03843    1\n",
      "0.05371    1\n",
      "0.06727    1\n",
      "Name: count, Length: 153, dtype: int64\n",
      "\n",
      "\n",
      "Economy (GDP per Capita)\n",
      "1.39651    1\n",
      "0.39753    1\n",
      "1.15406    1\n",
      "1.02564    1\n",
      "1.12094    1\n",
      "          ..\n",
      "1.12254    1\n",
      "1.18498    1\n",
      "1.14723    1\n",
      "0.59325    1\n",
      "0.20868    1\n",
      "Name: count, Length: 158, dtype: int64\n",
      "\n",
      "\n",
      "Family\n",
      "1.34951    1\n",
      "0.43106    1\n",
      "0.92933    1\n",
      "0.80001    1\n",
      "1.20215    1\n",
      "          ..\n",
      "1.12241    1\n",
      "1.27385    1\n",
      "1.25745    1\n",
      "1.14184    1\n",
      "0.13995    1\n",
      "Name: count, Length: 158, dtype: int64\n",
      "\n",
      "\n",
      "Health (Life Expectancy)\n",
      "0.92356    2\n",
      "0.94143    1\n",
      "0.60268    1\n",
      "0.88213    1\n",
      "0.83947    1\n",
      "          ..\n",
      "0.66098    1\n",
      "0.64368    1\n",
      "0.87337    1\n",
      "0.73128    1\n",
      "0.28443    1\n",
      "Name: count, Length: 157, dtype: int64\n",
      "\n",
      "\n",
      "Freedom\n",
      "0.66557    1\n",
      "0.40820    1\n",
      "0.07699    1\n",
      "0.33916    1\n",
      "0.32112    1\n",
      "          ..\n",
      "0.51649    1\n",
      "0.60855    1\n",
      "0.21342    1\n",
      "0.55475    1\n",
      "0.36453    1\n",
      "Name: count, Length: 158, dtype: int64\n",
      "\n",
      "\n",
      "Trust (Government Corruption)\n",
      "0.32524    2\n",
      "0.07625    1\n",
      "0.01397    1\n",
      "0.04582    1\n",
      "0.02758    1\n",
      "          ..\n",
      "0.03787    1\n",
      "0.01031    1\n",
      "0.19317    1\n",
      "0.05989    1\n",
      "0.10731    1\n",
      "Name: count, Length: 157, dtype: int64\n",
      "\n",
      "\n",
      "Generosity\n",
      "0.29678    1\n",
      "0.21222    1\n",
      "0.00000    1\n",
      "0.21854    1\n",
      "0.12800    1\n",
      "          ..\n",
      "0.11827    1\n",
      "0.25328    1\n",
      "0.02641    1\n",
      "0.27815    1\n",
      "0.16681    1\n",
      "Name: count, Length: 158, dtype: int64\n",
      "\n",
      "\n",
      "Dystopia Residual\n",
      "2.51738    1\n",
      "2.51767    1\n",
      "1.80101    1\n",
      "1.57059    1\n",
      "1.24074    1\n",
      "          ..\n",
      "2.24729    1\n",
      "1.61583    1\n",
      "2.44649    1\n",
      "2.32407    1\n",
      "1.56726    1\n",
      "Name: count, Length: 158, dtype: int64\n",
      "\n",
      "\n"
     ]
    }
   ],
   "source": [
    "for i in df.columns:\n",
    "    print (df[i].value_counts())\n",
    "    print (\"\\n\")"
   ]
  },
  {
   "cell_type": "code",
   "execution_count": 18,
   "id": "20962b53",
   "metadata": {},
   "outputs": [
    {
     "data": {
      "text/plain": [
       "array([7.587, 7.561, 7.527, 7.522, 7.427, 7.406, 7.378, 7.364, 7.286,\n",
       "       7.284, 7.278, 7.226, 7.2  , 7.187, 7.119, 6.983, 6.946, 6.94 ,\n",
       "       6.937, 6.901, 6.867, 6.853, 6.81 , 6.798, 6.786, 6.75 , 6.67 ,\n",
       "       6.611, 6.575, 6.574, 6.505, 6.485, 6.477, 6.455, 6.411, 6.329,\n",
       "       6.302, 6.298, 6.295, 6.269, 6.168, 6.13 , 6.123, 6.003, 5.995,\n",
       "       5.987, 5.984, 5.975, 5.96 , 5.948, 5.89 , 5.889, 5.878, 5.855,\n",
       "       5.848, 5.833, 5.828, 5.824, 5.813, 5.791, 5.77 , 5.759, 5.754,\n",
       "       5.716, 5.709, 5.695, 5.689, 5.605, 5.589, 5.548, 5.477, 5.474,\n",
       "       5.429, 5.399, 5.36 , 5.332, 5.286, 5.268, 5.253, 5.212, 5.194,\n",
       "       5.192, 5.14 , 5.129, 5.124, 5.123, 5.102, 5.098, 5.073, 5.057,\n",
       "       5.013, 5.007, 4.971, 4.959, 4.949, 4.898, 4.885, 4.876, 4.874,\n",
       "       4.867, 4.857, 4.839, 4.8  , 4.788, 4.786, 4.739, 4.715, 4.694,\n",
       "       4.686, 4.681, 4.677, 4.642, 4.633, 4.61 , 4.571, 4.565, 4.55 ,\n",
       "       4.518, 4.517, 4.514, 4.512, 4.507, 4.436, 4.419, 4.369, 4.35 ,\n",
       "       4.332, 4.307, 4.297, 4.292, 4.271, 4.252, 4.218, 4.194, 4.077,\n",
       "       4.033, 3.995, 3.989, 3.956, 3.931, 3.904, 3.896, 3.845, 3.819,\n",
       "       3.781, 3.681, 3.678, 3.667, 3.656, 3.655, 3.587, 3.575, 3.465,\n",
       "       3.34 , 3.006, 2.905, 2.839])"
      ]
     },
     "execution_count": 18,
     "metadata": {},
     "output_type": "execute_result"
    }
   ],
   "source": [
    "df['Happiness Score'].unique()"
   ]
  },
  {
   "cell_type": "markdown",
   "id": "b97fde7b",
   "metadata": {},
   "source": [
    "The Happiness Scores in the given dataframe range from 2.905 to 7.587."
   ]
  },
  {
   "cell_type": "code",
   "execution_count": 19,
   "id": "a3ee957b",
   "metadata": {},
   "outputs": [
    {
     "data": {
      "text/plain": [
       "0"
      ]
     },
     "execution_count": 19,
     "metadata": {},
     "output_type": "execute_result"
    }
   ],
   "source": [
    "df.duplicated().sum()"
   ]
  },
  {
   "cell_type": "markdown",
   "id": "15f92580",
   "metadata": {},
   "source": [
    "There are no duplicates present in the dataset."
   ]
  },
  {
   "cell_type": "code",
   "execution_count": 20,
   "id": "88b8767b",
   "metadata": {},
   "outputs": [
    {
     "data": {
      "text/plain": [
       "Index(['Country', 'Region', 'Happiness Rank', 'Happiness Score',\n",
       "       'Standard Error', 'Economy (GDP per Capita)', 'Family',\n",
       "       'Health (Life Expectancy)', 'Freedom', 'Trust (Government Corruption)',\n",
       "       'Generosity', 'Dystopia Residual'],\n",
       "      dtype='object')"
      ]
     },
     "execution_count": 20,
     "metadata": {},
     "output_type": "execute_result"
    }
   ],
   "source": [
    "df.columns"
   ]
  },
  {
   "cell_type": "code",
   "execution_count": 21,
   "id": "8ad35da4",
   "metadata": {},
   "outputs": [
    {
     "data": {
      "text/plain": [
       "['Country',\n",
       " 'Region',\n",
       " 'Happiness Rank',\n",
       " 'Happiness Score',\n",
       " 'Standard Error',\n",
       " 'Economy (GDP per Capita)',\n",
       " 'Family',\n",
       " 'Health (Life Expectancy)',\n",
       " 'Freedom',\n",
       " 'Trust (Government Corruption)',\n",
       " 'Generosity',\n",
       " 'Dystopia Residual']"
      ]
     },
     "execution_count": 21,
     "metadata": {},
     "output_type": "execute_result"
    }
   ],
   "source": [
    "df.columns.tolist()"
   ]
  },
  {
   "cell_type": "code",
   "execution_count": 22,
   "id": "f19bf326",
   "metadata": {},
   "outputs": [
    {
     "data": {
      "text/plain": [
       "Country                           object\n",
       "Region                            object\n",
       "Happiness Rank                     int64\n",
       "Happiness Score                  float64\n",
       "Standard Error                   float64\n",
       "Economy (GDP per Capita)         float64\n",
       "Family                           float64\n",
       "Health (Life Expectancy)         float64\n",
       "Freedom                          float64\n",
       "Trust (Government Corruption)    float64\n",
       "Generosity                       float64\n",
       "Dystopia Residual                float64\n",
       "dtype: object"
      ]
     },
     "execution_count": 22,
     "metadata": {},
     "output_type": "execute_result"
    }
   ],
   "source": [
    "df.dtypes"
   ]
  },
  {
   "cell_type": "code",
   "execution_count": 23,
   "id": "f96d9354",
   "metadata": {},
   "outputs": [
    {
     "data": {
      "text/plain": [
       "Country                          0\n",
       "Region                           0\n",
       "Happiness Rank                   0\n",
       "Happiness Score                  0\n",
       "Standard Error                   0\n",
       "Economy (GDP per Capita)         0\n",
       "Family                           0\n",
       "Health (Life Expectancy)         0\n",
       "Freedom                          0\n",
       "Trust (Government Corruption)    0\n",
       "Generosity                       0\n",
       "Dystopia Residual                0\n",
       "dtype: int64"
      ]
     },
     "execution_count": 23,
     "metadata": {},
     "output_type": "execute_result"
    }
   ],
   "source": [
    "df.isnull().sum()"
   ]
  },
  {
   "cell_type": "code",
   "execution_count": 24,
   "id": "6e4ad5d1",
   "metadata": {},
   "outputs": [
    {
     "data": {
      "text/plain": [
       "0"
      ]
     },
     "execution_count": 24,
     "metadata": {},
     "output_type": "execute_result"
    }
   ],
   "source": [
    "df.isnull().sum().sum()"
   ]
  },
  {
   "cell_type": "code",
   "execution_count": 25,
   "id": "1c84a4d2",
   "metadata": {},
   "outputs": [
    {
     "data": {
      "text/plain": [
       "<Axes: >"
      ]
     },
     "execution_count": 25,
     "metadata": {},
     "output_type": "execute_result"
    },
    {
     "data": {
      "image/png": "[encoded data removed]",
      "text/plain": [
       "<Figure size 640x480 with 2 Axes>"
      ]
     },
     "metadata": {},
     "output_type": "display_data"
    }
   ],
   "source": [
    "sns.heatmap(df.isnull())"
   ]
  },
  {
   "cell_type": "markdown",
   "id": "f88ecd34",
   "metadata": {},
   "source": [
    "The heatmap reveals that there are no missing values present in the dataset."
   ]
  },
  {
   "cell_type": "code",
   "execution_count": 26,
   "id": "da9c4243",
   "metadata": {},
   "outputs": [
    {
     "data": {
      "text/plain": [
       "Index(['Country', 'Region', 'Happiness Rank', 'Happiness Score',\n",
       "       'Standard Error', 'Economy (GDP per Capita)', 'Family',\n",
       "       'Health (Life Expectancy)', 'Freedom', 'Trust (Government Corruption)',\n",
       "       'Generosity', 'Dystopia Residual'],\n",
       "      dtype='object')"
      ]
     },
     "execution_count": 26,
     "metadata": {},
     "output_type": "execute_result"
    }
   ],
   "source": [
    "df.columns"
   ]
  },
  {
   "cell_type": "markdown",
   "id": "fb2471aa",
   "metadata": {},
   "source": [
    "# I'll proceed with dropping columns that do not contribute to the prediction of my target label."
   ]
  },
  {
   "cell_type": "code",
   "execution_count": 27,
   "id": "28eb9af2",
   "metadata": {},
   "outputs": [],
   "source": [
    "df=df.drop(['Country','Region','Happiness Rank'],axis=1)"
   ]
  },
  {
   "cell_type": "code",
   "execution_count": 38,
   "id": "d220820f",
   "metadata": {},
   "outputs": [
    {
     "data": {
      "text/plain": [
       "(149, 9)"
      ]
     },
     "execution_count": 38,
     "metadata": {},
     "output_type": "execute_result"
    }
   ],
   "source": [
    "df.shape"
   ]
  },
  {
   "cell_type": "code",
   "execution_count": 28,
   "id": "3add01b7",
   "metadata": {},
   "outputs": [
    {
     "data": {
      "text/html": [
       "<div>\n",
       "<style scoped>\n",
       "    .dataframe tbody tr th:only-of-type {\n",
       "        vertical-align: middle;\n",
       "    }\n",
       "\n",
       "    .dataframe tbody tr th {\n",
       "        vertical-align: top;\n",
       "    }\n",
       "\n",
       "    .dataframe thead th {\n",
       "        text-align: right;\n",
       "    }\n",
       "</style>\n",
       "<table border=\"1\" class=\"dataframe\">\n",
       "  <thead>\n",
       "    <tr style=\"text-align: right;\">\n",
       "      <th></th>\n",
       "      <th>Happiness Score</th>\n",
       "      <th>Standard Error</th>\n",
       "      <th>Economy (GDP per Capita)</th>\n",
       "      <th>Family</th>\n",
       "      <th>Health (Life Expectancy)</th>\n",
       "      <th>Freedom</th>\n",
       "      <th>Trust (Government Corruption)</th>\n",
       "      <th>Generosity</th>\n",
       "      <th>Dystopia Residual</th>\n",
       "    </tr>\n",
       "  </thead>\n",
       "  <tbody>\n",
       "    <tr>\n",
       "      <th>0</th>\n",
       "      <td>7.587</td>\n",
       "      <td>0.03411</td>\n",
       "      <td>1.39651</td>\n",
       "      <td>1.34951</td>\n",
       "      <td>0.94143</td>\n",
       "      <td>0.66557</td>\n",
       "      <td>0.41978</td>\n",
       "      <td>0.29678</td>\n",
       "      <td>2.51738</td>\n",
       "    </tr>\n",
       "    <tr>\n",
       "      <th>1</th>\n",
       "      <td>7.561</td>\n",
       "      <td>0.04884</td>\n",
       "      <td>1.30232</td>\n",
       "      <td>1.40223</td>\n",
       "      <td>0.94784</td>\n",
       "      <td>0.62877</td>\n",
       "      <td>0.14145</td>\n",
       "      <td>0.43630</td>\n",
       "      <td>2.70201</td>\n",
       "    </tr>\n",
       "    <tr>\n",
       "      <th>2</th>\n",
       "      <td>7.527</td>\n",
       "      <td>0.03328</td>\n",
       "      <td>1.32548</td>\n",
       "      <td>1.36058</td>\n",
       "      <td>0.87464</td>\n",
       "      <td>0.64938</td>\n",
       "      <td>0.48357</td>\n",
       "      <td>0.34139</td>\n",
       "      <td>2.49204</td>\n",
       "    </tr>\n",
       "    <tr>\n",
       "      <th>3</th>\n",
       "      <td>7.522</td>\n",
       "      <td>0.03880</td>\n",
       "      <td>1.45900</td>\n",
       "      <td>1.33095</td>\n",
       "      <td>0.88521</td>\n",
       "      <td>0.66973</td>\n",
       "      <td>0.36503</td>\n",
       "      <td>0.34699</td>\n",
       "      <td>2.46531</td>\n",
       "    </tr>\n",
       "    <tr>\n",
       "      <th>4</th>\n",
       "      <td>7.427</td>\n",
       "      <td>0.03553</td>\n",
       "      <td>1.32629</td>\n",
       "      <td>1.32261</td>\n",
       "      <td>0.90563</td>\n",
       "      <td>0.63297</td>\n",
       "      <td>0.32957</td>\n",
       "      <td>0.45811</td>\n",
       "      <td>2.45176</td>\n",
       "    </tr>\n",
       "  </tbody>\n",
       "</table>\n",
       "</div>"
      ],
      "text/plain": [
       "   Happiness Score  Standard Error  Economy (GDP per Capita)   Family  \\\n",
       "0            7.587         0.03411                   1.39651  1.34951   \n",
       "1            7.561         0.04884                   1.30232  1.40223   \n",
       "2            7.527         0.03328                   1.32548  1.36058   \n",
       "3            7.522         0.03880                   1.45900  1.33095   \n",
       "4            7.427         0.03553                   1.32629  1.32261   \n",
       "\n",
       "   Health (Life Expectancy)  Freedom  Trust (Government Corruption)  \\\n",
       "0                   0.94143  0.66557                        0.41978   \n",
       "1                   0.94784  0.62877                        0.14145   \n",
       "2                   0.87464  0.64938                        0.48357   \n",
       "3                   0.88521  0.66973                        0.36503   \n",
       "4                   0.90563  0.63297                        0.32957   \n",
       "\n",
       "   Generosity  Dystopia Residual  \n",
       "0     0.29678            2.51738  \n",
       "1     0.43630            2.70201  \n",
       "2     0.34139            2.49204  \n",
       "3     0.34699            2.46531  \n",
       "4     0.45811            2.45176  "
      ]
     },
     "execution_count": 28,
     "metadata": {},
     "output_type": "execute_result"
    }
   ],
   "source": [
    "df.head()"
   ]
  },
  {
   "cell_type": "markdown",
   "id": "3429bbfc",
   "metadata": {},
   "source": [
    "I have effectively removed the categorical columns 'Country' and 'Region', as well as the 'Happiness Rank', which consisted solely of sequential numeric data."
   ]
  },
  {
   "cell_type": "markdown",
   "id": "8f17cfcb",
   "metadata": {},
   "source": [
    "# 3. Data Visualization"
   ]
  },
  {
   "cell_type": "markdown",
   "id": "366fb493",
   "metadata": {},
   "source": [
    "# Histogram"
   ]
  },
  {
   "cell_type": "markdown",
   "id": "ef0ecd07",
   "metadata": {},
   "source": [
    "**We will create a histogram to visually represent the distribution of the data within the dataset's columns containing continuous values.**"
   ]
  },
  {
   "cell_type": "code",
   "execution_count": 29,
   "id": "6172fdf6",
   "metadata": {},
   "outputs": [
    {
     "data": {
      "image/png": "[encoded data removed]",
      "text/plain": [
       "<Figure size 2000x2000 with 9 Axes>"
      ]
     },
     "metadata": {},
     "output_type": "display_data"
    }
   ],
   "source": [
    "df.hist(bins=20,figsize=(20,20),density=True,label='value',color='maroon')\n",
    "plt.show()"
   ]
  },
  {
   "cell_type": "markdown",
   "id": "b7cfd838",
   "metadata": {},
   "source": [
    "I've observed that the data displays a multimodal distribution and skewness, indicating a need for deeper investigation. However, a notable finding is that the maximum happiness score tends to fall within the range of 4 to 6."
   ]
  },
  {
   "cell_type": "markdown",
   "id": "059cf6d5",
   "metadata": {},
   "source": [
    "# Distplot"
   ]
  },
  {
   "cell_type": "markdown",
   "id": "cd662c11",
   "metadata": {},
   "source": [
    "**Detecting skewness can be achieved by utilizing distplot alongside the skew() function.**"
   ]
  },
  {
   "cell_type": "code",
   "execution_count": 30,
   "id": "80d280ae",
   "metadata": {},
   "outputs": [
    {
     "data": {
      "image/png": "[encoded data removed]",
      "text/plain": [
       "<Figure size 2000x2500 with 9 Axes>"
      ]
     },
     "metadata": {},
     "output_type": "display_data"
    }
   ],
   "source": [
    "plt.figure(figsize=(20,25),facecolor='white')\n",
    "plotnumber=1\n",
    "for column in df:\n",
    "    if plotnumber <=9:\n",
    "        ax=plt.subplot(3,3,plotnumber)\n",
    "        sns.distplot(df[column],color='b')\n",
    "        plt.xlabel(column,fontsize=10)\n",
    "    plotnumber+=1\n",
    "plt.show()\n",
    "        "
   ]
  },
  {
   "cell_type": "markdown",
   "id": "5338e92c",
   "metadata": {},
   "source": [
    "Checking the skewness of coulmns where acceptable range is between -0.5 to 0.5"
   ]
  },
  {
   "cell_type": "code",
   "execution_count": 31,
   "id": "066240d7",
   "metadata": {},
   "outputs": [
    {
     "data": {
      "text/plain": [
       "Happiness Score                  0.097769\n",
       "Standard Error                   1.983439\n",
       "Economy (GDP per Capita)        -0.317575\n",
       "Family                          -1.006893\n",
       "Health (Life Expectancy)        -0.705328\n",
       "Freedom                         -0.413462\n",
       "Trust (Government Corruption)    1.385463\n",
       "Generosity                       1.001961\n",
       "Dystopia Residual               -0.238911\n",
       "dtype: float64"
      ]
     },
     "execution_count": 31,
     "metadata": {},
     "output_type": "execute_result"
    }
   ],
   "source": [
    "df.skew()"
   ]
  },
  {
   "cell_type": "markdown",
   "id": "a8ce2ab7",
   "metadata": {},
   "source": [
    "The skew method helps us identify columns that deviate from the acceptable range of -0.5 to 0.5. This suggests the presence of outliers in our dataset that require treatment."
   ]
  },
  {
   "cell_type": "markdown",
   "id": "3d036c9c",
   "metadata": {},
   "source": [
    "# boxplot"
   ]
  },
  {
   "cell_type": "code",
   "execution_count": 33,
   "id": "66976aa8",
   "metadata": {},
   "outputs": [
    {
     "data": {
      "image/png": "[encoded data removed]",
      "text/plain": [
       "<Figure size 1500x1000 with 10 Axes>"
      ]
     },
     "metadata": {},
     "output_type": "display_data"
    }
   ],
   "source": [
    "fig, ax=plt.subplots(ncols=5,nrows=2,figsize=(15,10))\n",
    "idx=0\n",
    "ax=ax.flatten()\n",
    "for col,value in df.items():\n",
    "    sns.boxplot(y=col,data=df,ax=ax[idx])\n",
    "    idx+=1\n",
    "plt.show()"
   ]
  },
  {
   "cell_type": "markdown",
   "id": "1235678c",
   "metadata": {},
   "source": [
    "# Outlier removal"
   ]
  },
  {
   "cell_type": "markdown",
   "id": "836d3085",
   "metadata": {},
   "source": [
    "The acceptable range for skewness lies within +/- 0.5. Notably, the feature columns exhibiting skewness are Standard Error, Freedom, Generosity, and Dystopia Residual."
   ]
  },
  {
   "cell_type": "markdown",
   "id": "7e3cf35c",
   "metadata": {},
   "source": [
    "# Z score method"
   ]
  },
  {
   "cell_type": "code",
   "execution_count": 34,
   "id": "4de7144c",
   "metadata": {},
   "outputs": [
    {
     "data": {
      "text/html": [
       "<div>\n",
       "<style scoped>\n",
       "    .dataframe tbody tr th:only-of-type {\n",
       "        vertical-align: middle;\n",
       "    }\n",
       "\n",
       "    .dataframe tbody tr th {\n",
       "        vertical-align: top;\n",
       "    }\n",
       "\n",
       "    .dataframe thead th {\n",
       "        text-align: right;\n",
       "    }\n",
       "</style>\n",
       "<table border=\"1\" class=\"dataframe\">\n",
       "  <thead>\n",
       "    <tr style=\"text-align: right;\">\n",
       "      <th></th>\n",
       "      <th>Happiness Score</th>\n",
       "      <th>Standard Error</th>\n",
       "      <th>Economy (GDP per Capita)</th>\n",
       "      <th>Family</th>\n",
       "      <th>Health (Life Expectancy)</th>\n",
       "      <th>Freedom</th>\n",
       "      <th>Trust (Government Corruption)</th>\n",
       "      <th>Generosity</th>\n",
       "      <th>Dystopia Residual</th>\n",
       "    </tr>\n",
       "  </thead>\n",
       "  <tbody>\n",
       "    <tr>\n",
       "      <th>0</th>\n",
       "      <td>7.587</td>\n",
       "      <td>0.03411</td>\n",
       "      <td>1.39651</td>\n",
       "      <td>1.34951</td>\n",
       "      <td>0.94143</td>\n",
       "      <td>0.66557</td>\n",
       "      <td>0.41978</td>\n",
       "      <td>0.29678</td>\n",
       "      <td>2.51738</td>\n",
       "    </tr>\n",
       "    <tr>\n",
       "      <th>1</th>\n",
       "      <td>7.561</td>\n",
       "      <td>0.04884</td>\n",
       "      <td>1.30232</td>\n",
       "      <td>1.40223</td>\n",
       "      <td>0.94784</td>\n",
       "      <td>0.62877</td>\n",
       "      <td>0.14145</td>\n",
       "      <td>0.43630</td>\n",
       "      <td>2.70201</td>\n",
       "    </tr>\n",
       "    <tr>\n",
       "      <th>2</th>\n",
       "      <td>7.527</td>\n",
       "      <td>0.03328</td>\n",
       "      <td>1.32548</td>\n",
       "      <td>1.36058</td>\n",
       "      <td>0.87464</td>\n",
       "      <td>0.64938</td>\n",
       "      <td>0.48357</td>\n",
       "      <td>0.34139</td>\n",
       "      <td>2.49204</td>\n",
       "    </tr>\n",
       "    <tr>\n",
       "      <th>3</th>\n",
       "      <td>7.522</td>\n",
       "      <td>0.03880</td>\n",
       "      <td>1.45900</td>\n",
       "      <td>1.33095</td>\n",
       "      <td>0.88521</td>\n",
       "      <td>0.66973</td>\n",
       "      <td>0.36503</td>\n",
       "      <td>0.34699</td>\n",
       "      <td>2.46531</td>\n",
       "    </tr>\n",
       "    <tr>\n",
       "      <th>4</th>\n",
       "      <td>7.427</td>\n",
       "      <td>0.03553</td>\n",
       "      <td>1.32629</td>\n",
       "      <td>1.32261</td>\n",
       "      <td>0.90563</td>\n",
       "      <td>0.63297</td>\n",
       "      <td>0.32957</td>\n",
       "      <td>0.45811</td>\n",
       "      <td>2.45176</td>\n",
       "    </tr>\n",
       "    <tr>\n",
       "      <th>...</th>\n",
       "      <td>...</td>\n",
       "      <td>...</td>\n",
       "      <td>...</td>\n",
       "      <td>...</td>\n",
       "      <td>...</td>\n",
       "      <td>...</td>\n",
       "      <td>...</td>\n",
       "      <td>...</td>\n",
       "      <td>...</td>\n",
       "    </tr>\n",
       "    <tr>\n",
       "      <th>150</th>\n",
       "      <td>3.655</td>\n",
       "      <td>0.05141</td>\n",
       "      <td>0.46534</td>\n",
       "      <td>0.77115</td>\n",
       "      <td>0.15185</td>\n",
       "      <td>0.46866</td>\n",
       "      <td>0.17922</td>\n",
       "      <td>0.20165</td>\n",
       "      <td>1.41723</td>\n",
       "    </tr>\n",
       "    <tr>\n",
       "      <th>151</th>\n",
       "      <td>3.587</td>\n",
       "      <td>0.04324</td>\n",
       "      <td>0.25812</td>\n",
       "      <td>0.85188</td>\n",
       "      <td>0.27125</td>\n",
       "      <td>0.39493</td>\n",
       "      <td>0.12832</td>\n",
       "      <td>0.21747</td>\n",
       "      <td>1.46494</td>\n",
       "    </tr>\n",
       "    <tr>\n",
       "      <th>152</th>\n",
       "      <td>3.575</td>\n",
       "      <td>0.03084</td>\n",
       "      <td>0.31982</td>\n",
       "      <td>0.30285</td>\n",
       "      <td>0.30335</td>\n",
       "      <td>0.23414</td>\n",
       "      <td>0.09719</td>\n",
       "      <td>0.36510</td>\n",
       "      <td>1.95210</td>\n",
       "    </tr>\n",
       "    <tr>\n",
       "      <th>154</th>\n",
       "      <td>3.340</td>\n",
       "      <td>0.03656</td>\n",
       "      <td>0.28665</td>\n",
       "      <td>0.35386</td>\n",
       "      <td>0.31910</td>\n",
       "      <td>0.48450</td>\n",
       "      <td>0.08010</td>\n",
       "      <td>0.18260</td>\n",
       "      <td>1.63328</td>\n",
       "    </tr>\n",
       "    <tr>\n",
       "      <th>156</th>\n",
       "      <td>2.905</td>\n",
       "      <td>0.08658</td>\n",
       "      <td>0.01530</td>\n",
       "      <td>0.41587</td>\n",
       "      <td>0.22396</td>\n",
       "      <td>0.11850</td>\n",
       "      <td>0.10062</td>\n",
       "      <td>0.19727</td>\n",
       "      <td>1.83302</td>\n",
       "    </tr>\n",
       "  </tbody>\n",
       "</table>\n",
       "<p>149 rows × 9 columns</p>\n",
       "</div>"
      ],
      "text/plain": [
       "     Happiness Score  Standard Error  Economy (GDP per Capita)   Family  \\\n",
       "0              7.587         0.03411                   1.39651  1.34951   \n",
       "1              7.561         0.04884                   1.30232  1.40223   \n",
       "2              7.527         0.03328                   1.32548  1.36058   \n",
       "3              7.522         0.03880                   1.45900  1.33095   \n",
       "4              7.427         0.03553                   1.32629  1.32261   \n",
       "..               ...             ...                       ...      ...   \n",
       "150            3.655         0.05141                   0.46534  0.77115   \n",
       "151            3.587         0.04324                   0.25812  0.85188   \n",
       "152            3.575         0.03084                   0.31982  0.30285   \n",
       "154            3.340         0.03656                   0.28665  0.35386   \n",
       "156            2.905         0.08658                   0.01530  0.41587   \n",
       "\n",
       "     Health (Life Expectancy)  Freedom  Trust (Government Corruption)  \\\n",
       "0                     0.94143  0.66557                        0.41978   \n",
       "1                     0.94784  0.62877                        0.14145   \n",
       "2                     0.87464  0.64938                        0.48357   \n",
       "3                     0.88521  0.66973                        0.36503   \n",
       "4                     0.90563  0.63297                        0.32957   \n",
       "..                        ...      ...                            ...   \n",
       "150                   0.15185  0.46866                        0.17922   \n",
       "151                   0.27125  0.39493                        0.12832   \n",
       "152                   0.30335  0.23414                        0.09719   \n",
       "154                   0.31910  0.48450                        0.08010   \n",
       "156                   0.22396  0.11850                        0.10062   \n",
       "\n",
       "     Generosity  Dystopia Residual  \n",
       "0       0.29678            2.51738  \n",
       "1       0.43630            2.70201  \n",
       "2       0.34139            2.49204  \n",
       "3       0.34699            2.46531  \n",
       "4       0.45811            2.45176  \n",
       "..          ...                ...  \n",
       "150     0.20165            1.41723  \n",
       "151     0.21747            1.46494  \n",
       "152     0.36510            1.95210  \n",
       "154     0.18260            1.63328  \n",
       "156     0.19727            1.83302  \n",
       "\n",
       "[149 rows x 9 columns]"
      ]
     },
     "execution_count": 34,
     "metadata": {},
     "output_type": "execute_result"
    }
   ],
   "source": [
    "z=np.abs(zscore(df))\n",
    "threshold=3\n",
    "np.where(z>3)\n",
    "df=df[(z<3).all(axis=1)]\n",
    "df"
   ]
  },
  {
   "cell_type": "markdown",
   "id": "4ed1608e",
   "metadata": {},
   "source": [
    "By employing the Z Score method, we've successfully identified and eliminated outliers from our dataset."
   ]
  },
  {
   "cell_type": "code",
   "execution_count": 39,
   "id": "ad5663c7",
   "metadata": {},
   "outputs": [
    {
     "data": {
      "text/plain": [
       "(149, 9)"
      ]
     },
     "execution_count": 39,
     "metadata": {},
     "output_type": "execute_result"
    }
   ],
   "source": [
    "df.shape"
   ]
  },
  {
   "cell_type": "code",
   "execution_count": 40,
   "id": "7d6ac6c1",
   "metadata": {},
   "outputs": [
    {
     "data": {
      "text/plain": [
       "5.69620253164557"
      ]
     },
     "execution_count": 40,
     "metadata": {},
     "output_type": "execute_result"
    }
   ],
   "source": [
    "# Percentage of Data Loss\n",
    "\n",
    "data_loss=(158-149)/158*100 # 158 was the number of rows in original data set and 149 after the removal of outliers\n",
    "data_loss"
   ]
  },
  {
   "cell_type": "markdown",
   "id": "13b54c8e",
   "metadata": {},
   "source": [
    "After removing the outliers, we're assessing the data loss percentage by comparing the number of rows in our original dataset with the new dataset after outlier removal. The data loss percentage should not exceed 10 percent."
   ]
  },
  {
   "cell_type": "markdown",
   "id": "37666caf",
   "metadata": {},
   "source": [
    "# Correlation using a Heatmap"
   ]
  },
  {
   "cell_type": "markdown",
   "id": "52eb2973",
   "metadata": {},
   "source": [
    "1. Positive correlation - A correlation of +1 indicates a perfect positive correlation, meaning that both variables move in the same direction together.\n",
    "\n",
    "2. Negative correlation - A correlation of –1 indicates a perfect negative correlation, meaning that as one variable goes up, the other goes down."
   ]
  },
  {
   "cell_type": "code",
   "execution_count": 36,
   "id": "32f23ceb",
   "metadata": {},
   "outputs": [
    {
     "data": {
      "text/plain": [
       "<Axes: >"
      ]
     },
     "execution_count": 36,
     "metadata": {},
     "output_type": "execute_result"
    },
    {
     "data": {
      "image/png": "[encoded data removed]",
      "text/plain": [
       "<Figure size 1200x1000 with 2 Axes>"
      ]
     },
     "metadata": {},
     "output_type": "display_data"
    }
   ],
   "source": [
    "plt.figure(figsize=(12,10))\n",
    "sns.heatmap(df.corr(),annot=True)"
   ]
  },
  {
   "cell_type": "code",
   "execution_count": 37,
   "id": "704a99c4",
   "metadata": {},
   "outputs": [
    {
     "name": "stdout",
     "output_type": "stream",
     "text": [
      "Happiness Score                  1.000000\n",
      "Economy (GDP per Capita)         0.773577\n",
      "Health (Life Expectancy)         0.729191\n",
      "Family                           0.720868\n",
      "Freedom                          0.585066\n",
      "Dystopia Residual                0.528334\n",
      "Trust (Government Corruption)    0.477692\n",
      "Generosity                       0.250903\n",
      "Standard Error                   0.230252\n",
      "Name: Happiness Score, dtype: float64\n"
     ]
    }
   ],
   "source": [
    "correlation_with_label = df.corr()['Happiness Score'].abs().sort_values(ascending=False)\n",
    "print(correlation_with_label)"
   ]
  },
  {
   "cell_type": "markdown",
   "id": "53159a90",
   "metadata": {},
   "source": [
    "All columns exhibit high correlation with the label."
   ]
  },
  {
   "cell_type": "markdown",
   "id": "b5b88993",
   "metadata": {},
   "source": [
    "# 4.Preparing Data for Machine Learning"
   ]
  },
  {
   "cell_type": "code",
   "execution_count": 42,
   "id": "2d5e0230",
   "metadata": {},
   "outputs": [],
   "source": [
    "# Splitting"
   ]
  },
  {
   "cell_type": "markdown",
   "id": "286e8735",
   "metadata": {},
   "source": [
    "Choose the dependent(label)and independent variables."
   ]
  },
  {
   "cell_type": "code",
   "execution_count": 43,
   "id": "19959212",
   "metadata": {},
   "outputs": [],
   "source": [
    "Y=df['Happiness Score']\n",
    "X=df.drop('Happiness Score',axis=1)"
   ]
  },
  {
   "cell_type": "markdown",
   "id": "e1b12269",
   "metadata": {},
   "source": [
    "I've split the dataset into features and labels, with X representing all the feature columns and Y representing the target label column."
   ]
  },
  {
   "cell_type": "code",
   "execution_count": 46,
   "id": "842c0c3e",
   "metadata": {},
   "outputs": [
    {
     "data": {
      "text/plain": [
       "0      7.587\n",
       "1      7.561\n",
       "2      7.527\n",
       "3      7.522\n",
       "4      7.427\n",
       "       ...  \n",
       "150    3.655\n",
       "151    3.587\n",
       "152    3.575\n",
       "154    3.340\n",
       "156    2.905\n",
       "Name: Happiness Score, Length: 149, dtype: float64"
      ]
     },
     "execution_count": 46,
     "metadata": {},
     "output_type": "execute_result"
    }
   ],
   "source": [
    "Y"
   ]
  },
  {
   "cell_type": "code",
   "execution_count": 45,
   "id": "33be86b1",
   "metadata": {
    "scrolled": true
   },
   "outputs": [
    {
     "data": {
      "text/html": [
       "<div>\n",
       "<style scoped>\n",
       "    .dataframe tbody tr th:only-of-type {\n",
       "        vertical-align: middle;\n",
       "    }\n",
       "\n",
       "    .dataframe tbody tr th {\n",
       "        vertical-align: top;\n",
       "    }\n",
       "\n",
       "    .dataframe thead th {\n",
       "        text-align: right;\n",
       "    }\n",
       "</style>\n",
       "<table border=\"1\" class=\"dataframe\">\n",
       "  <thead>\n",
       "    <tr style=\"text-align: right;\">\n",
       "      <th></th>\n",
       "      <th>Standard Error</th>\n",
       "      <th>Economy (GDP per Capita)</th>\n",
       "      <th>Family</th>\n",
       "      <th>Health (Life Expectancy)</th>\n",
       "      <th>Freedom</th>\n",
       "      <th>Trust (Government Corruption)</th>\n",
       "      <th>Generosity</th>\n",
       "      <th>Dystopia Residual</th>\n",
       "    </tr>\n",
       "  </thead>\n",
       "  <tbody>\n",
       "    <tr>\n",
       "      <th>0</th>\n",
       "      <td>0.03411</td>\n",
       "      <td>1.39651</td>\n",
       "      <td>1.34951</td>\n",
       "      <td>0.94143</td>\n",
       "      <td>0.66557</td>\n",
       "      <td>0.41978</td>\n",
       "      <td>0.29678</td>\n",
       "      <td>2.51738</td>\n",
       "    </tr>\n",
       "    <tr>\n",
       "      <th>1</th>\n",
       "      <td>0.04884</td>\n",
       "      <td>1.30232</td>\n",
       "      <td>1.40223</td>\n",
       "      <td>0.94784</td>\n",
       "      <td>0.62877</td>\n",
       "      <td>0.14145</td>\n",
       "      <td>0.43630</td>\n",
       "      <td>2.70201</td>\n",
       "    </tr>\n",
       "    <tr>\n",
       "      <th>2</th>\n",
       "      <td>0.03328</td>\n",
       "      <td>1.32548</td>\n",
       "      <td>1.36058</td>\n",
       "      <td>0.87464</td>\n",
       "      <td>0.64938</td>\n",
       "      <td>0.48357</td>\n",
       "      <td>0.34139</td>\n",
       "      <td>2.49204</td>\n",
       "    </tr>\n",
       "    <tr>\n",
       "      <th>3</th>\n",
       "      <td>0.03880</td>\n",
       "      <td>1.45900</td>\n",
       "      <td>1.33095</td>\n",
       "      <td>0.88521</td>\n",
       "      <td>0.66973</td>\n",
       "      <td>0.36503</td>\n",
       "      <td>0.34699</td>\n",
       "      <td>2.46531</td>\n",
       "    </tr>\n",
       "    <tr>\n",
       "      <th>4</th>\n",
       "      <td>0.03553</td>\n",
       "      <td>1.32629</td>\n",
       "      <td>1.32261</td>\n",
       "      <td>0.90563</td>\n",
       "      <td>0.63297</td>\n",
       "      <td>0.32957</td>\n",
       "      <td>0.45811</td>\n",
       "      <td>2.45176</td>\n",
       "    </tr>\n",
       "    <tr>\n",
       "      <th>...</th>\n",
       "      <td>...</td>\n",
       "      <td>...</td>\n",
       "      <td>...</td>\n",
       "      <td>...</td>\n",
       "      <td>...</td>\n",
       "      <td>...</td>\n",
       "      <td>...</td>\n",
       "      <td>...</td>\n",
       "    </tr>\n",
       "    <tr>\n",
       "      <th>150</th>\n",
       "      <td>0.05141</td>\n",
       "      <td>0.46534</td>\n",
       "      <td>0.77115</td>\n",
       "      <td>0.15185</td>\n",
       "      <td>0.46866</td>\n",
       "      <td>0.17922</td>\n",
       "      <td>0.20165</td>\n",
       "      <td>1.41723</td>\n",
       "    </tr>\n",
       "    <tr>\n",
       "      <th>151</th>\n",
       "      <td>0.04324</td>\n",
       "      <td>0.25812</td>\n",
       "      <td>0.85188</td>\n",
       "      <td>0.27125</td>\n",
       "      <td>0.39493</td>\n",
       "      <td>0.12832</td>\n",
       "      <td>0.21747</td>\n",
       "      <td>1.46494</td>\n",
       "    </tr>\n",
       "    <tr>\n",
       "      <th>152</th>\n",
       "      <td>0.03084</td>\n",
       "      <td>0.31982</td>\n",
       "      <td>0.30285</td>\n",
       "      <td>0.30335</td>\n",
       "      <td>0.23414</td>\n",
       "      <td>0.09719</td>\n",
       "      <td>0.36510</td>\n",
       "      <td>1.95210</td>\n",
       "    </tr>\n",
       "    <tr>\n",
       "      <th>154</th>\n",
       "      <td>0.03656</td>\n",
       "      <td>0.28665</td>\n",
       "      <td>0.35386</td>\n",
       "      <td>0.31910</td>\n",
       "      <td>0.48450</td>\n",
       "      <td>0.08010</td>\n",
       "      <td>0.18260</td>\n",
       "      <td>1.63328</td>\n",
       "    </tr>\n",
       "    <tr>\n",
       "      <th>156</th>\n",
       "      <td>0.08658</td>\n",
       "      <td>0.01530</td>\n",
       "      <td>0.41587</td>\n",
       "      <td>0.22396</td>\n",
       "      <td>0.11850</td>\n",
       "      <td>0.10062</td>\n",
       "      <td>0.19727</td>\n",
       "      <td>1.83302</td>\n",
       "    </tr>\n",
       "  </tbody>\n",
       "</table>\n",
       "<p>149 rows × 8 columns</p>\n",
       "</div>"
      ],
      "text/plain": [
       "     Standard Error  Economy (GDP per Capita)   Family  \\\n",
       "0           0.03411                   1.39651  1.34951   \n",
       "1           0.04884                   1.30232  1.40223   \n",
       "2           0.03328                   1.32548  1.36058   \n",
       "3           0.03880                   1.45900  1.33095   \n",
       "4           0.03553                   1.32629  1.32261   \n",
       "..              ...                       ...      ...   \n",
       "150         0.05141                   0.46534  0.77115   \n",
       "151         0.04324                   0.25812  0.85188   \n",
       "152         0.03084                   0.31982  0.30285   \n",
       "154         0.03656                   0.28665  0.35386   \n",
       "156         0.08658                   0.01530  0.41587   \n",
       "\n",
       "     Health (Life Expectancy)  Freedom  Trust (Government Corruption)  \\\n",
       "0                     0.94143  0.66557                        0.41978   \n",
       "1                     0.94784  0.62877                        0.14145   \n",
       "2                     0.87464  0.64938                        0.48357   \n",
       "3                     0.88521  0.66973                        0.36503   \n",
       "4                     0.90563  0.63297                        0.32957   \n",
       "..                        ...      ...                            ...   \n",
       "150                   0.15185  0.46866                        0.17922   \n",
       "151                   0.27125  0.39493                        0.12832   \n",
       "152                   0.30335  0.23414                        0.09719   \n",
       "154                   0.31910  0.48450                        0.08010   \n",
       "156                   0.22396  0.11850                        0.10062   \n",
       "\n",
       "     Generosity  Dystopia Residual  \n",
       "0       0.29678            2.51738  \n",
       "1       0.43630            2.70201  \n",
       "2       0.34139            2.49204  \n",
       "3       0.34699            2.46531  \n",
       "4       0.45811            2.45176  \n",
       "..          ...                ...  \n",
       "150     0.20165            1.41723  \n",
       "151     0.21747            1.46494  \n",
       "152     0.36510            1.95210  \n",
       "154     0.18260            1.63328  \n",
       "156     0.19727            1.83302  \n",
       "\n",
       "[149 rows x 8 columns]"
      ]
     },
     "execution_count": 45,
     "metadata": {},
     "output_type": "execute_result"
    }
   ],
   "source": [
    "X"
   ]
  },
  {
   "cell_type": "markdown",
   "id": "07d27e85",
   "metadata": {},
   "source": [
    "# Feature Scaling"
   ]
  },
  {
   "cell_type": "code",
   "execution_count": 50,
   "id": "2be69802",
   "metadata": {},
   "outputs": [],
   "source": [
    "scaler=StandardScaler()\n",
    "X=pd.DataFrame(scaler.fit_transform(X),columns=X.columns)"
   ]
  },
  {
   "cell_type": "code",
   "execution_count": 51,
   "id": "0835a6a2",
   "metadata": {},
   "outputs": [
    {
     "data": {
      "text/html": [
       "<div>\n",
       "<style scoped>\n",
       "    .dataframe tbody tr th:only-of-type {\n",
       "        vertical-align: middle;\n",
       "    }\n",
       "\n",
       "    .dataframe tbody tr th {\n",
       "        vertical-align: top;\n",
       "    }\n",
       "\n",
       "    .dataframe thead th {\n",
       "        text-align: right;\n",
       "    }\n",
       "</style>\n",
       "<table border=\"1\" class=\"dataframe\">\n",
       "  <thead>\n",
       "    <tr style=\"text-align: right;\">\n",
       "      <th></th>\n",
       "      <th>Standard Error</th>\n",
       "      <th>Economy (GDP per Capita)</th>\n",
       "      <th>Family</th>\n",
       "      <th>Health (Life Expectancy)</th>\n",
       "      <th>Freedom</th>\n",
       "      <th>Trust (Government Corruption)</th>\n",
       "      <th>Generosity</th>\n",
       "      <th>Dystopia Residual</th>\n",
       "    </tr>\n",
       "  </thead>\n",
       "  <tbody>\n",
       "    <tr>\n",
       "      <th>0</th>\n",
       "      <td>-0.866786</td>\n",
       "      <td>1.381916</td>\n",
       "      <td>1.357879</td>\n",
       "      <td>1.235390</td>\n",
       "      <td>1.583704</td>\n",
       "      <td>2.472255</td>\n",
       "      <td>0.546305</td>\n",
       "      <td>0.756876</td>\n",
       "    </tr>\n",
       "    <tr>\n",
       "      <th>1</th>\n",
       "      <td>0.185669</td>\n",
       "      <td>1.138324</td>\n",
       "      <td>1.567882</td>\n",
       "      <td>1.261541</td>\n",
       "      <td>1.338953</td>\n",
       "      <td>0.009247</td>\n",
       "      <td>1.713898</td>\n",
       "      <td>1.109300</td>\n",
       "    </tr>\n",
       "    <tr>\n",
       "      <th>2</th>\n",
       "      <td>-0.926089</td>\n",
       "      <td>1.198220</td>\n",
       "      <td>1.401974</td>\n",
       "      <td>0.962900</td>\n",
       "      <td>1.476027</td>\n",
       "      <td>3.036747</td>\n",
       "      <td>0.919630</td>\n",
       "      <td>0.708507</td>\n",
       "    </tr>\n",
       "    <tr>\n",
       "      <th>3</th>\n",
       "      <td>-0.531687</td>\n",
       "      <td>1.543526</td>\n",
       "      <td>1.283947</td>\n",
       "      <td>1.006023</td>\n",
       "      <td>1.611371</td>\n",
       "      <td>1.987759</td>\n",
       "      <td>0.966495</td>\n",
       "      <td>0.657485</td>\n",
       "    </tr>\n",
       "    <tr>\n",
       "      <th>4</th>\n",
       "      <td>-0.765327</td>\n",
       "      <td>1.200315</td>\n",
       "      <td>1.250726</td>\n",
       "      <td>1.089333</td>\n",
       "      <td>1.366887</td>\n",
       "      <td>1.673965</td>\n",
       "      <td>1.896418</td>\n",
       "      <td>0.631620</td>\n",
       "    </tr>\n",
       "    <tr>\n",
       "      <th>...</th>\n",
       "      <td>...</td>\n",
       "      <td>...</td>\n",
       "      <td>...</td>\n",
       "      <td>...</td>\n",
       "      <td>...</td>\n",
       "      <td>...</td>\n",
       "      <td>...</td>\n",
       "      <td>...</td>\n",
       "    </tr>\n",
       "    <tr>\n",
       "      <th>144</th>\n",
       "      <td>0.369294</td>\n",
       "      <td>-1.026255</td>\n",
       "      <td>-0.945943</td>\n",
       "      <td>-1.985941</td>\n",
       "      <td>0.274090</td>\n",
       "      <td>0.343483</td>\n",
       "      <td>-0.249803</td>\n",
       "      <td>-1.343100</td>\n",
       "    </tr>\n",
       "    <tr>\n",
       "      <th>145</th>\n",
       "      <td>-0.214450</td>\n",
       "      <td>-1.562163</td>\n",
       "      <td>-0.624365</td>\n",
       "      <td>-1.498813</td>\n",
       "      <td>-0.216276</td>\n",
       "      <td>-0.106943</td>\n",
       "      <td>-0.117411</td>\n",
       "      <td>-1.252030</td>\n",
       "    </tr>\n",
       "    <tr>\n",
       "      <th>146</th>\n",
       "      <td>-1.100427</td>\n",
       "      <td>-1.402596</td>\n",
       "      <td>-2.811354</td>\n",
       "      <td>-1.367851</td>\n",
       "      <td>-1.285662</td>\n",
       "      <td>-0.382420</td>\n",
       "      <td>1.118051</td>\n",
       "      <td>-0.322135</td>\n",
       "    </tr>\n",
       "    <tr>\n",
       "      <th>147</th>\n",
       "      <td>-0.691734</td>\n",
       "      <td>-1.488379</td>\n",
       "      <td>-2.608163</td>\n",
       "      <td>-1.303594</td>\n",
       "      <td>0.379439</td>\n",
       "      <td>-0.533653</td>\n",
       "      <td>-0.409226</td>\n",
       "      <td>-0.930702</td>\n",
       "    </tr>\n",
       "    <tr>\n",
       "      <th>148</th>\n",
       "      <td>2.882182</td>\n",
       "      <td>-2.190139</td>\n",
       "      <td>-2.361154</td>\n",
       "      <td>-1.691747</td>\n",
       "      <td>-2.054764</td>\n",
       "      <td>-0.352067</td>\n",
       "      <td>-0.286458</td>\n",
       "      <td>-0.549436</td>\n",
       "    </tr>\n",
       "  </tbody>\n",
       "</table>\n",
       "<p>149 rows × 8 columns</p>\n",
       "</div>"
      ],
      "text/plain": [
       "     Standard Error  Economy (GDP per Capita)    Family  \\\n",
       "0         -0.866786                  1.381916  1.357879   \n",
       "1          0.185669                  1.138324  1.567882   \n",
       "2         -0.926089                  1.198220  1.401974   \n",
       "3         -0.531687                  1.543526  1.283947   \n",
       "4         -0.765327                  1.200315  1.250726   \n",
       "..              ...                       ...       ...   \n",
       "144        0.369294                 -1.026255 -0.945943   \n",
       "145       -0.214450                 -1.562163 -0.624365   \n",
       "146       -1.100427                 -1.402596 -2.811354   \n",
       "147       -0.691734                 -1.488379 -2.608163   \n",
       "148        2.882182                 -2.190139 -2.361154   \n",
       "\n",
       "     Health (Life Expectancy)   Freedom  Trust (Government Corruption)  \\\n",
       "0                    1.235390  1.583704                       2.472255   \n",
       "1                    1.261541  1.338953                       0.009247   \n",
       "2                    0.962900  1.476027                       3.036747   \n",
       "3                    1.006023  1.611371                       1.987759   \n",
       "4                    1.089333  1.366887                       1.673965   \n",
       "..                        ...       ...                            ...   \n",
       "144                 -1.985941  0.274090                       0.343483   \n",
       "145                 -1.498813 -0.216276                      -0.106943   \n",
       "146                 -1.367851 -1.285662                      -0.382420   \n",
       "147                 -1.303594  0.379439                      -0.533653   \n",
       "148                 -1.691747 -2.054764                      -0.352067   \n",
       "\n",
       "     Generosity  Dystopia Residual  \n",
       "0      0.546305           0.756876  \n",
       "1      1.713898           1.109300  \n",
       "2      0.919630           0.708507  \n",
       "3      0.966495           0.657485  \n",
       "4      1.896418           0.631620  \n",
       "..          ...                ...  \n",
       "144   -0.249803          -1.343100  \n",
       "145   -0.117411          -1.252030  \n",
       "146    1.118051          -0.322135  \n",
       "147   -0.409226          -0.930702  \n",
       "148   -0.286458          -0.549436  \n",
       "\n",
       "[149 rows x 8 columns]"
      ]
     },
     "execution_count": 51,
     "metadata": {},
     "output_type": "execute_result"
    }
   ],
   "source": [
    "X"
   ]
  },
  {
   "cell_type": "markdown",
   "id": "0b9c3363",
   "metadata": {},
   "source": [
    "To address potential bias stemming from variations in decimal places across feature columns, I've opted to standardize all the features using the Standard Scaler method. This technique ensures that all feature columns have comparable scales, which can enhance the performance and stability of my model."
   ]
  },
  {
   "cell_type": "markdown",
   "id": "d1e7b41b",
   "metadata": {},
   "source": [
    "# Finding best random state for analysis."
   ]
  },
  {
   "cell_type": "code",
   "execution_count": 56,
   "id": "82f6dff2",
   "metadata": {},
   "outputs": [
    {
     "name": "stdout",
     "output_type": "stream",
     "text": [
      "Best accuracy is 0.9619203060135751 on Random_state 102\n"
     ]
    }
   ],
   "source": [
    "from sklearn.ensemble import RandomForestRegressor, GradientBoostingRegressor, AdaBoostRegressor, ExtraTreesClassifier,ExtraTreesRegressor \n",
    "from xgboost import XGBRegressor\n",
    "maxR2_score=0\n",
    "maxRS=0\n",
    "for i in range(1,200):\n",
    "    X_train,X_test,Y_train,Y_test = train_test_split(X,Y,test_size = 0.33, random_state=i)\n",
    "    gb=GradientBoostingRegressor(n_estimators=100)\n",
    "    gb.fit(X_train,Y_train)\n",
    "    Y_pred=gb.predict(X_test)\n",
    "    R2=r2_score(Y_test,Y_pred)\n",
    "    if R2>maxR2_score:\n",
    "        maxR2_score=R2\n",
    "        maxRS=i\n",
    "print('Best accuracy is', maxR2_score ,'on Random_state', maxRS)"
   ]
  },
  {
   "cell_type": "markdown",
   "id": "62083773",
   "metadata": {},
   "source": [
    "# Creating the training and testing data sets"
   ]
  },
  {
   "cell_type": "code",
   "execution_count": null,
   "id": "39bede54",
   "metadata": {},
   "outputs": [],
   "source": [
    "X_train, X_test, Y_train, Y_test = train_test_split(X, Y, test_size=0.2, random_state=21)"
   ]
  },
  {
   "cell_type": "code",
   "execution_count": 58,
   "id": "8ba17c2e",
   "metadata": {},
   "outputs": [],
   "source": [
    "X_train,X_test,Y_train,Y_test=train_test_split(X,Y,test_size=0.3,random_state=102)"
   ]
  },
  {
   "cell_type": "markdown",
   "id": "9b529478",
   "metadata": {},
   "source": [
    "30% of the dataset will be used for testing, and the remaining 70% for training our machine learning models.@random_state=102"
   ]
  },
  {
   "cell_type": "markdown",
   "id": "6f5ec6e6",
   "metadata": {},
   "source": [
    "# Model Building"
   ]
  },
  {
   "cell_type": "code",
   "execution_count": 82,
   "id": "1e5cbc1d",
   "metadata": {},
   "outputs": [],
   "source": [
    "def regression_model(model, X, Y):\n",
    "    print('Model Name:\\n',model)\n",
    "    \n",
    "    # Splitting data into train and test sets\n",
    "    X_train, X_test, Y_train, Y_test = train_test_split(X, Y, test_size=0.3, random_state=102)\n",
    "    \n",
    "    # Training the model\n",
    "    model.fit(X_train, Y_train)\n",
    "    \n",
    "    # Predicting y_test\n",
    "    pred = model.predict(X_test)\n",
    "    \n",
    "    # Predicting y_train\n",
    "    train = model.predict(X_train)\n",
    "    \n",
    "    \n",
    "    # R-squared Score\n",
    "    r2 = r2_score(Y_test, pred)\n",
    "    print(\"R-squared Score:\", r2)\n",
    "    \n",
    "    #R-squared Score on training data\n",
    "    r3 = r2_score(Y_train, train)\n",
    "    print(\"R-squared Score on training data:\", r3*100)\n",
    "    \n",
    "    # Mean Absolute Error\n",
    "    mae = mean_absolute_error(Y_test, pred)\n",
    "    print(\"Mean Absolute Error:\", mae)\n",
    "    \n",
    "    # Mean Squared Error\n",
    "    mse = mean_squared_error(Y_test, pred)\n",
    "    print(\"Mean Squared Error:\", mse)\n",
    "    \n",
    "    # Root Mean Squared Error\n",
    "    rmse =np.sqrt(mean_squared_error(Y_test, pred))\n",
    "    print(\"Root Mean Squared Error:\", rmse)\n",
    "    \n",
    "    \n",
    "    \n",
    "    # Cross Validation Score\n",
    "    cv_score = cross_val_score(model, X, Y, cv=5, scoring='r2') \n",
    "    print(\"\\nCross Validation Score:\", cv_score)\n",
    "    print(\"Cross Validation Score Mean:\", cv_score.mean())\n",
    "    \n",
    "    # Result of accuracy minus cv scores\n",
    "    result = r2 - cv_score.mean()\n",
    "    print(\"R-squared Score - Cross Validation Score is\", result*100)\n"
   ]
  },
  {
   "cell_type": "code",
   "execution_count": 83,
   "id": "1b7eda11",
   "metadata": {},
   "outputs": [
    {
     "name": "stdout",
     "output_type": "stream",
     "text": [
      "Model Name: LinearRegression()\n",
      "R-squared Score: 0.9999999219631722\n",
      "R-squared Score on training data: 99.99999401862154\n",
      "Mean Absolute Error: 0.00025489686073774107\n",
      "Mean Squared Error: 8.013554992731746e-08\n",
      "Root Mean Squared Error: 0.000283082231740739\n",
      "\n",
      "Cross Validation Score: [0.99999943 0.99999847 0.99999831 0.99999509 0.99999933]\n",
      "Cross Validation Score Mean: 0.9999981234686345\n",
      "R-squared Score - Cross Validation Score is 0.00017984945377413908\n"
     ]
    }
   ],
   "source": [
    "# Linear Regression\n",
    "LR = LinearRegression()\n",
    "evaluate_regression(LR,X, Y)"
   ]
  },
  {
   "cell_type": "code",
   "execution_count": 84,
   "id": "25b5aa22",
   "metadata": {},
   "outputs": [
    {
     "name": "stdout",
     "output_type": "stream",
     "text": [
      "Model Name: Ridge()\n",
      "R-squared Score: 0.9999695539832447\n",
      "R-squared Score on training data: 99.99744923141687\n",
      "Mean Absolute Error: 0.004936442130907566\n",
      "Mean Squared Error: 3.126483179463491e-05\n",
      "Root Mean Squared Error: 0.0055914963824216955\n",
      "\n",
      "Cross Validation Score: [0.99593052 0.99958895 0.9995052  0.99917361 0.99792321]\n",
      "Cross Validation Score Mean: 0.9984242986241231\n",
      "R-squared Score - Cross Validation Score is 0.15452553591216445\n"
     ]
    }
   ],
   "source": [
    "# Ridge Regressor\n",
    "RDG = Ridge()\n",
    "evaluate_regression(RDG,X, Y)"
   ]
  },
  {
   "cell_type": "code",
   "execution_count": 69,
   "id": "4cc7aa14",
   "metadata": {},
   "outputs": [
    {
     "name": "stdout",
     "output_type": "stream",
     "text": [
      "Model Name: Lasso()\n",
      "R-squared Score: -0.011323670272983088\n",
      "R-squared Score on training data: 0.0\n",
      "Mean Absolute Error: 0.8788666666666667\n",
      "Mean Squared Error: 1.0385222045665328\n",
      "Root Mean Squared Error: 1.0190790963249774\n",
      "\n",
      "Cross Validation Score: [-42.37117014 -11.06215836  -0.30321946 -32.72956581 -29.0315447 ]\n",
      "Cross Validation Score Mean: -23.099531692553747\n",
      "R-squared Score - Cross Validation Score is 2308.8208022280764\n"
     ]
    }
   ],
   "source": [
    "# Lasso Regressor\n",
    "LS = Lasso()\n",
    "evaluate_regression(LS,X, Y)"
   ]
  },
  {
   "cell_type": "code",
   "execution_count": 70,
   "id": "57834413",
   "metadata": {},
   "outputs": [
    {
     "name": "stdout",
     "output_type": "stream",
     "text": [
      "Model Name: DecisionTreeRegressor()\n",
      "R-squared Score: 0.6987533916137331\n",
      "R-squared Score on training data: 100.0\n",
      "Mean Absolute Error: 0.44859999999999994\n",
      "Mean Squared Error: 0.30934833333333334\n",
      "Root Mean Squared Error: 0.5561909144649284\n",
      "\n",
      "Cross Validation Score: [ -5.96064419  -8.95082488  -5.47734821 -12.11247029  -6.36543261]\n",
      "Cross Validation Score Mean: -7.773344034372042\n",
      "R-squared Score - Cross Validation Score is 847.2097425985775\n"
     ]
    }
   ],
   "source": [
    "# Decision Tree Regression\n",
    "DT = DecisionTreeRegressor()\n",
    "evaluate_regression(DT,X, Y)"
   ]
  },
  {
   "cell_type": "code",
   "execution_count": 71,
   "id": "b4d2ab97",
   "metadata": {},
   "outputs": [
    {
     "name": "stdout",
     "output_type": "stream",
     "text": [
      "Model Name: RandomForestRegressor()\n",
      "R-squared Score: 0.9582760948074749\n",
      "R-squared Score on training data: 98.56116413645427\n",
      "Mean Absolute Error: 0.17771066666666607\n",
      "Mean Squared Error: 0.04284602771333327\n",
      "Root Mean Squared Error: 0.20699282043909945\n",
      "\n",
      "Cross Validation Score: [-7.86782246 -0.64400139 -0.59880017 -2.02323672 -6.18366764]\n",
      "Cross Validation Score Mean: -3.463505675070144\n",
      "R-squared Score - Cross Validation Score is 442.17817698776184\n"
     ]
    }
   ],
   "source": [
    "# Random Forest Regression\n",
    "RFR = RandomForestRegressor()\n",
    "evaluate_regression(RFR,X, Y)"
   ]
  },
  {
   "cell_type": "code",
   "execution_count": 72,
   "id": "8043c17e",
   "metadata": {},
   "outputs": [
    {
     "name": "stdout",
     "output_type": "stream",
     "text": [
      "Model Name: ExtraTreesRegressor()\n",
      "R-squared Score: 0.9728342467277666\n",
      "R-squared Score on training data: 100.0\n",
      "Mean Absolute Error: 0.14414666666666673\n",
      "Mean Squared Error: 0.027896348920000136\n",
      "Root Mean Squared Error: 0.1670220013052177\n",
      "\n",
      "Cross Validation Score: [-7.2232169  -0.12959017 -0.28372363 -0.89554465 -5.64343891]\n",
      "Cross Validation Score Mean: -2.835102851147923\n",
      "R-squared Score - Cross Validation Score is 380.79370978756896\n"
     ]
    }
   ],
   "source": [
    "# Extra Tree Regression\n",
    "ETR = ExtraTreesRegressor()\n",
    "evaluate_regression(ETR,X, Y)"
   ]
  },
  {
   "cell_type": "code",
   "execution_count": 73,
   "id": "fcd7adab",
   "metadata": {},
   "outputs": [
    {
     "name": "stdout",
     "output_type": "stream",
     "text": [
      "Model Name: AdaBoostRegressor()\n",
      "R-squared Score: 0.9444584536454481\n",
      "R-squared Score on training data: 95.4780095074876\n",
      "Mean Absolute Error: 0.196334297297207\n",
      "Mean Squared Error: 0.0570352804553599\n",
      "Root Mean Squared Error: 0.23882060307971736\n",
      "\n",
      "Cross Validation Score: [-9.11622224 -6.71688468 -3.07104071 -5.10467679 -8.09523444]\n",
      "Cross Validation Score Mean: -6.420811774713539\n",
      "R-squared Score - Cross Validation Score is 736.5270228358987\n"
     ]
    }
   ],
   "source": [
    "# ADA Boost Regressor\n",
    "ABR = AdaBoostRegressor()\n",
    "evaluate_regression(ABR,X, Y)"
   ]
  },
  {
   "cell_type": "code",
   "execution_count": 74,
   "id": "3a05a78a",
   "metadata": {},
   "outputs": [
    {
     "name": "stdout",
     "output_type": "stream",
     "text": [
      "Model Name: GradientBoostingRegressor()\n",
      "R-squared Score: 0.950832941222569\n",
      "R-squared Score on training data: 99.92601946129984\n",
      "Mean Absolute Error: 0.18441847896319263\n",
      "Mean Squared Error: 0.05048935743767094\n",
      "Root Mean Squared Error: 0.2246983699043474\n",
      "\n",
      "Cross Validation Score: [-4.45634401  0.01597359 -0.52781638 -3.85755785 -3.89193814]\n",
      "Cross Validation Score Mean: -2.543536557046644\n",
      "R-squared Score - Cross Validation Score is 349.4369498269213\n"
     ]
    }
   ],
   "source": [
    "# GradientBoostingRegressor\n",
    "GBR = GradientBoostingRegressor()\n",
    "evaluate_regression(GBR,X, Y)"
   ]
  },
  {
   "cell_type": "code",
   "execution_count": 75,
   "id": "58a847d0",
   "metadata": {},
   "outputs": [
    {
     "name": "stdout",
     "output_type": "stream",
     "text": [
      "Model Name: XGBRegressor(base_score=None, booster=None, callbacks=None,\n",
      "             colsample_bylevel=None, colsample_bynode=None,\n",
      "             colsample_bytree=None, device=None, early_stopping_rounds=None,\n",
      "             enable_categorical=False, eval_metric=None, feature_types=None,\n",
      "             gamma=None, grow_policy=None, importance_type=None,\n",
      "             interaction_constraints=None, learning_rate=None, max_bin=None,\n",
      "             max_cat_threshold=None, max_cat_to_onehot=None,\n",
      "             max_delta_step=None, max_depth=None, max_leaves=None,\n",
      "             min_child_weight=None, missing=nan, monotone_constraints=None,\n",
      "             multi_strategy=None, n_estimators=None, n_jobs=None,\n",
      "             num_parallel_tree=None, random_state=None, ...)\n",
      "R-squared Score: 0.9473337512247779\n",
      "R-squared Score on training data: 99.9999575631093\n",
      "Mean Absolute Error: 0.19065298678080242\n",
      "Mean Squared Error: 0.054082654635710666\n",
      "Root Mean Squared Error: 0.23255677723022966\n",
      "\n",
      "Cross Validation Score: [-6.19766068 -1.91332635 -1.98839643 -4.47730583 -6.40843454]\n",
      "Cross Validation Score Mean: -4.197024767419697\n",
      "R-squared Score - Cross Validation Score is 514.4358518644475\n"
     ]
    }
   ],
   "source": [
    "# XGBRegressor\n",
    "XGBR = XGBRegressor()\n",
    "evaluate_regression(XGBR,X, Y)"
   ]
  },
  {
   "cell_type": "markdown",
   "id": "73d0f0cd",
   "metadata": {},
   "source": [
    "the Linear Regression demonstrates a high R-squared score on the test data and a relatively small difference between the R-squared score and cross-validation score, indicating strong predictive accuracy and generalization ability. Therefore, it stands out as one of the best models for the regression ."
   ]
  },
  {
   "cell_type": "markdown",
   "id": "c46330c3",
   "metadata": {},
   "source": [
    "# Hyper parameter tuning on the best ML Model"
   ]
  },
  {
   "cell_type": "code",
   "execution_count": 110,
   "id": "2ff82d43",
   "metadata": {},
   "outputs": [],
   "source": [
    "# Linear Regression\n",
    "\n",
    "param_grid = {'fit_intercept' : [True,False], \n",
    "            'copy_X' : [True,False], 'n_jobs' : [1,2,3,4,5,6,7,8,9,10], 'positive' : [True,False],\n",
    "          \n",
    "           }"
   ]
  },
  {
   "cell_type": "code",
   "execution_count": 111,
   "id": "57bf8408",
   "metadata": {},
   "outputs": [],
   "source": [
    "grid_search = GridSearchCV(estimator=LR, param_grid=param_grid, cv=5)"
   ]
  },
  {
   "cell_type": "code",
   "execution_count": 112,
   "id": "934a582a",
   "metadata": {},
   "outputs": [
    {
     "data": {
      "text/html": [
       "<style>#sk-container-id-1 {color: black;background-color: white;}#sk-container-id-1 pre{padding: 0;}#sk-container-id-1 div.sk-toggleable {background-color: white;}#sk-container-id-1 label.sk-toggleable__label {cursor: pointer;display: block;width: 100%;margin-bottom: 0;padding: 0.3em;box-sizing: border-box;text-align: center;}#sk-container-id-1 label.sk-toggleable__label-arrow:before {content: \"▸\";float: left;margin-right: 0.25em;color: #696969;}#sk-container-id-1 label.sk-toggleable__label-arrow:hover:before {color: black;}#sk-container-id-1 div.sk-estimator:hover label.sk-toggleable__label-arrow:before {color: black;}#sk-container-id-1 div.sk-toggleable__content {max-height: 0;max-width: 0;overflow: hidden;text-align: left;background-color: #f0f8ff;}#sk-container-id-1 div.sk-toggleable__content pre {margin: 0.2em;color: black;border-radius: 0.25em;background-color: #f0f8ff;}#sk-container-id-1 input.sk-toggleable__control:checked~div.sk-toggleable__content {max-height: 200px;max-width: 100%;overflow: auto;}#sk-container-id-1 input.sk-toggleable__control:checked~label.sk-toggleable__label-arrow:before {content: \"▾\";}#sk-container-id-1 div.sk-estimator input.sk-toggleable__control:checked~label.sk-toggleable__label {background-color: #d4ebff;}#sk-container-id-1 div.sk-label input.sk-toggleable__control:checked~label.sk-toggleable__label {background-color: #d4ebff;}#sk-container-id-1 input.sk-hidden--visually {border: 0;clip: rect(1px 1px 1px 1px);clip: rect(1px, 1px, 1px, 1px);height: 1px;margin: -1px;overflow: hidden;padding: 0;position: absolute;width: 1px;}#sk-container-id-1 div.sk-estimator {font-family: monospace;background-color: #f0f8ff;border: 1px dotted black;border-radius: 0.25em;box-sizing: border-box;margin-bottom: 0.5em;}#sk-container-id-1 div.sk-estimator:hover {background-color: #d4ebff;}#sk-container-id-1 div.sk-parallel-item::after {content: \"\";width: 100%;border-bottom: 1px solid gray;flex-grow: 1;}#sk-container-id-1 div.sk-label:hover label.sk-toggleable__label {background-color: #d4ebff;}#sk-container-id-1 div.sk-serial::before {content: \"\";position: absolute;border-left: 1px solid gray;box-sizing: border-box;top: 0;bottom: 0;left: 50%;z-index: 0;}#sk-container-id-1 div.sk-serial {display: flex;flex-direction: column;align-items: center;background-color: white;padding-right: 0.2em;padding-left: 0.2em;position: relative;}#sk-container-id-1 div.sk-item {position: relative;z-index: 1;}#sk-container-id-1 div.sk-parallel {display: flex;align-items: stretch;justify-content: center;background-color: white;position: relative;}#sk-container-id-1 div.sk-item::before, #sk-container-id-1 div.sk-parallel-item::before {content: \"\";position: absolute;border-left: 1px solid gray;box-sizing: border-box;top: 0;bottom: 0;left: 50%;z-index: -1;}#sk-container-id-1 div.sk-parallel-item {display: flex;flex-direction: column;z-index: 1;position: relative;background-color: white;}#sk-container-id-1 div.sk-parallel-item:first-child::after {align-self: flex-end;width: 50%;}#sk-container-id-1 div.sk-parallel-item:last-child::after {align-self: flex-start;width: 50%;}#sk-container-id-1 div.sk-parallel-item:only-child::after {width: 0;}#sk-container-id-1 div.sk-dashed-wrapped {border: 1px dashed gray;margin: 0 0.4em 0.5em 0.4em;box-sizing: border-box;padding-bottom: 0.4em;background-color: white;}#sk-container-id-1 div.sk-label label {font-family: monospace;font-weight: bold;display: inline-block;line-height: 1.2em;}#sk-container-id-1 div.sk-label-container {text-align: center;}#sk-container-id-1 div.sk-container {/* jupyter's `normalize.less` sets `[hidden] { display: none; }` but bootstrap.min.css set `[hidden] { display: none !important; }` so we also need the `!important` here to be able to override the default hidden behavior on the sphinx rendered scikit-learn.org. See: https://github.com/scikit-learn/scikit-learn/issues/21755 */display: inline-block !important;position: relative;}#sk-container-id-1 div.sk-text-repr-fallback {display: none;}</style><div id=\"sk-container-id-1\" class=\"sk-top-container\"><div class=\"sk-text-repr-fallback\"><pre>GridSearchCV(cv=5, estimator=LinearRegression(),\n",
       "             param_grid={&#x27;copy_X&#x27;: [True, False],\n",
       "                         &#x27;fit_intercept&#x27;: [True, False],\n",
       "                         &#x27;n_jobs&#x27;: [1, 2, 3, 4, 5, 6, 7, 8, 9, 10],\n",
       "                         &#x27;positive&#x27;: [True, False]})</pre><b>In a Jupyter environment, please rerun this cell to show the HTML representation or trust the notebook. <br />On GitHub, the HTML representation is unable to render, please try loading this page with nbviewer.org.</b></div><div class=\"sk-container\" hidden><div class=\"sk-item sk-dashed-wrapped\"><div class=\"sk-label-container\"><div class=\"sk-label sk-toggleable\"><input class=\"sk-toggleable__control sk-hidden--visually\" id=\"sk-estimator-id-1\" type=\"checkbox\" ><label for=\"sk-estimator-id-1\" class=\"sk-toggleable__label sk-toggleable__label-arrow\">GridSearchCV</label><div class=\"sk-toggleable__content\"><pre>GridSearchCV(cv=5, estimator=LinearRegression(),\n",
       "             param_grid={&#x27;copy_X&#x27;: [True, False],\n",
       "                         &#x27;fit_intercept&#x27;: [True, False],\n",
       "                         &#x27;n_jobs&#x27;: [1, 2, 3, 4, 5, 6, 7, 8, 9, 10],\n",
       "                         &#x27;positive&#x27;: [True, False]})</pre></div></div></div><div class=\"sk-parallel\"><div class=\"sk-parallel-item\"><div class=\"sk-item\"><div class=\"sk-label-container\"><div class=\"sk-label sk-toggleable\"><input class=\"sk-toggleable__control sk-hidden--visually\" id=\"sk-estimator-id-2\" type=\"checkbox\" ><label for=\"sk-estimator-id-2\" class=\"sk-toggleable__label sk-toggleable__label-arrow\">estimator: LinearRegression</label><div class=\"sk-toggleable__content\"><pre>LinearRegression()</pre></div></div></div><div class=\"sk-serial\"><div class=\"sk-item\"><div class=\"sk-estimator sk-toggleable\"><input class=\"sk-toggleable__control sk-hidden--visually\" id=\"sk-estimator-id-3\" type=\"checkbox\" ><label for=\"sk-estimator-id-3\" class=\"sk-toggleable__label sk-toggleable__label-arrow\">LinearRegression</label><div class=\"sk-toggleable__content\"><pre>LinearRegression()</pre></div></div></div></div></div></div></div></div></div></div>"
      ],
      "text/plain": [
       "GridSearchCV(cv=5, estimator=LinearRegression(),\n",
       "             param_grid={'copy_X': [True, False],\n",
       "                         'fit_intercept': [True, False],\n",
       "                         'n_jobs': [1, 2, 3, 4, 5, 6, 7, 8, 9, 10],\n",
       "                         'positive': [True, False]})"
      ]
     },
     "execution_count": 112,
     "metadata": {},
     "output_type": "execute_result"
    }
   ],
   "source": [
    "grid_search.fit(X_train, Y_train)"
   ]
  },
  {
   "cell_type": "code",
   "execution_count": 113,
   "id": "6173b410",
   "metadata": {},
   "outputs": [
    {
     "data": {
      "text/plain": [
       "{'copy_X': True, 'fit_intercept': True, 'n_jobs': 1, 'positive': True}"
      ]
     },
     "execution_count": 113,
     "metadata": {},
     "output_type": "execute_result"
    }
   ],
   "source": [
    "best_params = grid_search.best_params_\n",
    "best_params"
   ]
  },
  {
   "cell_type": "code",
   "execution_count": 117,
   "id": "07fa137e",
   "metadata": {},
   "outputs": [],
   "source": [
    "final_model_3 = LinearRegression(copy_X=True, fit_intercept=True, n_jobs=1, positive=True)"
   ]
  },
  {
   "cell_type": "code",
   "execution_count": 118,
   "id": "23fbb7a1",
   "metadata": {},
   "outputs": [
    {
     "data": {
      "text/html": [
       "<style>#sk-container-id-2 {color: black;background-color: white;}#sk-container-id-2 pre{padding: 0;}#sk-container-id-2 div.sk-toggleable {background-color: white;}#sk-container-id-2 label.sk-toggleable__label {cursor: pointer;display: block;width: 100%;margin-bottom: 0;padding: 0.3em;box-sizing: border-box;text-align: center;}#sk-container-id-2 label.sk-toggleable__label-arrow:before {content: \"▸\";float: left;margin-right: 0.25em;color: #696969;}#sk-container-id-2 label.sk-toggleable__label-arrow:hover:before {color: black;}#sk-container-id-2 div.sk-estimator:hover label.sk-toggleable__label-arrow:before {color: black;}#sk-container-id-2 div.sk-toggleable__content {max-height: 0;max-width: 0;overflow: hidden;text-align: left;background-color: #f0f8ff;}#sk-container-id-2 div.sk-toggleable__content pre {margin: 0.2em;color: black;border-radius: 0.25em;background-color: #f0f8ff;}#sk-container-id-2 input.sk-toggleable__control:checked~div.sk-toggleable__content {max-height: 200px;max-width: 100%;overflow: auto;}#sk-container-id-2 input.sk-toggleable__control:checked~label.sk-toggleable__label-arrow:before {content: \"▾\";}#sk-container-id-2 div.sk-estimator input.sk-toggleable__control:checked~label.sk-toggleable__label {background-color: #d4ebff;}#sk-container-id-2 div.sk-label input.sk-toggleable__control:checked~label.sk-toggleable__label {background-color: #d4ebff;}#sk-container-id-2 input.sk-hidden--visually {border: 0;clip: rect(1px 1px 1px 1px);clip: rect(1px, 1px, 1px, 1px);height: 1px;margin: -1px;overflow: hidden;padding: 0;position: absolute;width: 1px;}#sk-container-id-2 div.sk-estimator {font-family: monospace;background-color: #f0f8ff;border: 1px dotted black;border-radius: 0.25em;box-sizing: border-box;margin-bottom: 0.5em;}#sk-container-id-2 div.sk-estimator:hover {background-color: #d4ebff;}#sk-container-id-2 div.sk-parallel-item::after {content: \"\";width: 100%;border-bottom: 1px solid gray;flex-grow: 1;}#sk-container-id-2 div.sk-label:hover label.sk-toggleable__label {background-color: #d4ebff;}#sk-container-id-2 div.sk-serial::before {content: \"\";position: absolute;border-left: 1px solid gray;box-sizing: border-box;top: 0;bottom: 0;left: 50%;z-index: 0;}#sk-container-id-2 div.sk-serial {display: flex;flex-direction: column;align-items: center;background-color: white;padding-right: 0.2em;padding-left: 0.2em;position: relative;}#sk-container-id-2 div.sk-item {position: relative;z-index: 1;}#sk-container-id-2 div.sk-parallel {display: flex;align-items: stretch;justify-content: center;background-color: white;position: relative;}#sk-container-id-2 div.sk-item::before, #sk-container-id-2 div.sk-parallel-item::before {content: \"\";position: absolute;border-left: 1px solid gray;box-sizing: border-box;top: 0;bottom: 0;left: 50%;z-index: -1;}#sk-container-id-2 div.sk-parallel-item {display: flex;flex-direction: column;z-index: 1;position: relative;background-color: white;}#sk-container-id-2 div.sk-parallel-item:first-child::after {align-self: flex-end;width: 50%;}#sk-container-id-2 div.sk-parallel-item:last-child::after {align-self: flex-start;width: 50%;}#sk-container-id-2 div.sk-parallel-item:only-child::after {width: 0;}#sk-container-id-2 div.sk-dashed-wrapped {border: 1px dashed gray;margin: 0 0.4em 0.5em 0.4em;box-sizing: border-box;padding-bottom: 0.4em;background-color: white;}#sk-container-id-2 div.sk-label label {font-family: monospace;font-weight: bold;display: inline-block;line-height: 1.2em;}#sk-container-id-2 div.sk-label-container {text-align: center;}#sk-container-id-2 div.sk-container {/* jupyter's `normalize.less` sets `[hidden] { display: none; }` but bootstrap.min.css set `[hidden] { display: none !important; }` so we also need the `!important` here to be able to override the default hidden behavior on the sphinx rendered scikit-learn.org. See: https://github.com/scikit-learn/scikit-learn/issues/21755 */display: inline-block !important;position: relative;}#sk-container-id-2 div.sk-text-repr-fallback {display: none;}</style><div id=\"sk-container-id-2\" class=\"sk-top-container\"><div class=\"sk-text-repr-fallback\"><pre>LinearRegression(n_jobs=1, positive=True)</pre><b>In a Jupyter environment, please rerun this cell to show the HTML representation or trust the notebook. <br />On GitHub, the HTML representation is unable to render, please try loading this page with nbviewer.org.</b></div><div class=\"sk-container\" hidden><div class=\"sk-item\"><div class=\"sk-estimator sk-toggleable\"><input class=\"sk-toggleable__control sk-hidden--visually\" id=\"sk-estimator-id-4\" type=\"checkbox\" checked><label for=\"sk-estimator-id-4\" class=\"sk-toggleable__label sk-toggleable__label-arrow\">LinearRegression</label><div class=\"sk-toggleable__content\"><pre>LinearRegression(n_jobs=1, positive=True)</pre></div></div></div></div></div>"
      ],
      "text/plain": [
       "LinearRegression(n_jobs=1, positive=True)"
      ]
     },
     "execution_count": 118,
     "metadata": {},
     "output_type": "execute_result"
    }
   ],
   "source": [
    "final_model_3.fit(X_train, Y_train)"
   ]
  },
  {
   "cell_type": "code",
   "execution_count": 119,
   "id": "fb77ca36",
   "metadata": {},
   "outputs": [],
   "source": [
    "pred = final_model_3.predict(X_test)"
   ]
  },
  {
   "cell_type": "code",
   "execution_count": 120,
   "id": "5480a400",
   "metadata": {},
   "outputs": [],
   "source": [
    "mse = mean_squared_error(Y_test, pred)"
   ]
  },
  {
   "cell_type": "code",
   "execution_count": 121,
   "id": "2528bd7a",
   "metadata": {},
   "outputs": [
    {
     "name": "stdout",
     "output_type": "stream",
     "text": [
      "Mean Squared Error: 8.209356392404997e-08\n"
     ]
    }
   ],
   "source": [
    "print(\"Mean Squared Error:\", mse)"
   ]
  },
  {
   "cell_type": "markdown",
   "id": "e1759520",
   "metadata": {},
   "source": [
    "The obtained result,8.209×10^−8 represents a very small value. This implies that, on average, the squared differences between the actual and predicted values are minimal, indicating that the model's predictions closely match the actual values."
   ]
  },
  {
   "cell_type": "markdown",
   "id": "4834af5f",
   "metadata": {},
   "source": [
    "# Saving the model"
   ]
  },
  {
   "cell_type": "code",
   "execution_count": 122,
   "id": "1c16bed1",
   "metadata": {},
   "outputs": [
    {
     "data": {
      "text/plain": [
       "['FinalModel_4.pkl']"
      ]
     },
     "execution_count": 122,
     "metadata": {},
     "output_type": "execute_result"
    }
   ],
   "source": [
    "filename = \"FinalModel_4.pkl\"\n",
    "joblib.dump(final_model_3, filename)"
   ]
  },
  {
   "cell_type": "code",
   "execution_count": 123,
   "id": "5f2ce525",
   "metadata": {},
   "outputs": [
    {
     "data": {
      "text/plain": [
       "array([6.85292419, 7.27762388, 3.68091659, 7.28603334, 3.90375717,\n",
       "       5.68870322, 4.85759331, 4.07673449, 7.22559878, 4.64225561,\n",
       "       6.32885764, 6.12269286, 7.40603373, 7.52704779, 6.50498194,\n",
       "       4.50714012, 5.88964575, 5.09755873, 4.78791099, 5.94815806,\n",
       "       5.07321371, 4.51435741, 4.79955238, 4.6807334 , 6.94620808,\n",
       "       4.29244333, 4.33201587, 6.4545588 , 4.19430089, 5.39862757,\n",
       "       6.41120376, 4.86709865, 4.69398158, 5.71579404, 6.94019873,\n",
       "       4.89752271, 3.57462616, 6.48507983, 5.95968573, 5.75856691,\n",
       "       5.69527393, 5.82406029, 3.58687044, 5.79050672, 6.29810289])"
      ]
     },
     "execution_count": 123,
     "metadata": {},
     "output_type": "execute_result"
    }
   ],
   "source": [
    "model=joblib.load(\"FinalModel_4.pkl\")\n",
    "\n",
    "prediction=model.predict(X_test)\n",
    "prediction"
   ]
  },
  {
   "cell_type": "code",
   "execution_count": 124,
   "id": "891e06f5",
   "metadata": {},
   "outputs": [
    {
     "data": {
      "text/html": [
       "<div>\n",
       "<style scoped>\n",
       "    .dataframe tbody tr th:only-of-type {\n",
       "        vertical-align: middle;\n",
       "    }\n",
       "\n",
       "    .dataframe tbody tr th {\n",
       "        vertical-align: top;\n",
       "    }\n",
       "\n",
       "    .dataframe thead th {\n",
       "        text-align: right;\n",
       "    }\n",
       "</style>\n",
       "<table border=\"1\" class=\"dataframe\">\n",
       "  <thead>\n",
       "    <tr style=\"text-align: right;\">\n",
       "      <th></th>\n",
       "      <th>Predicted</th>\n",
       "      <th>Original</th>\n",
       "    </tr>\n",
       "  </thead>\n",
       "  <tbody>\n",
       "    <tr>\n",
       "      <th>0</th>\n",
       "      <td>6.852924</td>\n",
       "      <td>6.853</td>\n",
       "    </tr>\n",
       "    <tr>\n",
       "      <th>1</th>\n",
       "      <td>7.277624</td>\n",
       "      <td>7.278</td>\n",
       "    </tr>\n",
       "    <tr>\n",
       "      <th>2</th>\n",
       "      <td>3.680917</td>\n",
       "      <td>3.681</td>\n",
       "    </tr>\n",
       "    <tr>\n",
       "      <th>3</th>\n",
       "      <td>7.286033</td>\n",
       "      <td>7.286</td>\n",
       "    </tr>\n",
       "    <tr>\n",
       "      <th>4</th>\n",
       "      <td>3.903757</td>\n",
       "      <td>3.904</td>\n",
       "    </tr>\n",
       "  </tbody>\n",
       "</table>\n",
       "</div>"
      ],
      "text/plain": [
       "   Predicted  Original\n",
       "0   6.852924     6.853\n",
       "1   7.277624     7.278\n",
       "2   3.680917     3.681\n",
       "3   7.286033     7.286\n",
       "4   3.903757     3.904"
      ]
     },
     "execution_count": 124,
     "metadata": {},
     "output_type": "execute_result"
    }
   ],
   "source": [
    "a=np.array(Y_test)\n",
    "df=pd.DataFrame()\n",
    "df['Predicted']=prediction\n",
    "df['Original']=a\n",
    "df.head()"
   ]
  },
  {
   "cell_type": "code",
   "execution_count": 125,
   "id": "c76a420b",
   "metadata": {},
   "outputs": [
    {
     "data": {
      "text/html": [
       "<div>\n",
       "<style scoped>\n",
       "    .dataframe tbody tr th:only-of-type {\n",
       "        vertical-align: middle;\n",
       "    }\n",
       "\n",
       "    .dataframe tbody tr th {\n",
       "        vertical-align: top;\n",
       "    }\n",
       "\n",
       "    .dataframe thead th {\n",
       "        text-align: right;\n",
       "    }\n",
       "</style>\n",
       "<table border=\"1\" class=\"dataframe\">\n",
       "  <thead>\n",
       "    <tr style=\"text-align: right;\">\n",
       "      <th></th>\n",
       "      <th>Predicted</th>\n",
       "      <th>Original</th>\n",
       "    </tr>\n",
       "  </thead>\n",
       "  <tbody>\n",
       "    <tr>\n",
       "      <th>40</th>\n",
       "      <td>5.695274</td>\n",
       "      <td>5.695</td>\n",
       "    </tr>\n",
       "    <tr>\n",
       "      <th>41</th>\n",
       "      <td>5.824060</td>\n",
       "      <td>5.824</td>\n",
       "    </tr>\n",
       "    <tr>\n",
       "      <th>42</th>\n",
       "      <td>3.586870</td>\n",
       "      <td>3.587</td>\n",
       "    </tr>\n",
       "    <tr>\n",
       "      <th>43</th>\n",
       "      <td>5.790507</td>\n",
       "      <td>5.791</td>\n",
       "    </tr>\n",
       "    <tr>\n",
       "      <th>44</th>\n",
       "      <td>6.298103</td>\n",
       "      <td>6.298</td>\n",
       "    </tr>\n",
       "  </tbody>\n",
       "</table>\n",
       "</div>"
      ],
      "text/plain": [
       "    Predicted  Original\n",
       "40   5.695274     5.695\n",
       "41   5.824060     5.824\n",
       "42   3.586870     3.587\n",
       "43   5.790507     5.791\n",
       "44   6.298103     6.298"
      ]
     },
     "execution_count": 125,
     "metadata": {},
     "output_type": "execute_result"
    }
   ],
   "source": [
    "df.tail()"
   ]
  },
  {
   "cell_type": "code",
   "execution_count": 128,
   "id": "30156570",
   "metadata": {},
   "outputs": [
    {
     "data": {
      "text/html": [
       "<div>\n",
       "<style scoped>\n",
       "    .dataframe tbody tr th:only-of-type {\n",
       "        vertical-align: middle;\n",
       "    }\n",
       "\n",
       "    .dataframe tbody tr th {\n",
       "        vertical-align: top;\n",
       "    }\n",
       "\n",
       "    .dataframe thead th {\n",
       "        text-align: right;\n",
       "    }\n",
       "</style>\n",
       "<table border=\"1\" class=\"dataframe\">\n",
       "  <thead>\n",
       "    <tr style=\"text-align: right;\">\n",
       "      <th></th>\n",
       "      <th>Predicted</th>\n",
       "      <th>Original</th>\n",
       "    </tr>\n",
       "  </thead>\n",
       "  <tbody>\n",
       "    <tr>\n",
       "      <th>20</th>\n",
       "      <td>5.073214</td>\n",
       "      <td>5.073</td>\n",
       "    </tr>\n",
       "    <tr>\n",
       "      <th>21</th>\n",
       "      <td>4.514357</td>\n",
       "      <td>4.514</td>\n",
       "    </tr>\n",
       "    <tr>\n",
       "      <th>22</th>\n",
       "      <td>4.799552</td>\n",
       "      <td>4.800</td>\n",
       "    </tr>\n",
       "    <tr>\n",
       "      <th>23</th>\n",
       "      <td>4.680733</td>\n",
       "      <td>4.681</td>\n",
       "    </tr>\n",
       "    <tr>\n",
       "      <th>24</th>\n",
       "      <td>6.946208</td>\n",
       "      <td>6.946</td>\n",
       "    </tr>\n",
       "  </tbody>\n",
       "</table>\n",
       "</div>"
      ],
      "text/plain": [
       "    Predicted  Original\n",
       "20   5.073214     5.073\n",
       "21   4.514357     4.514\n",
       "22   4.799552     4.800\n",
       "23   4.680733     4.681\n",
       "24   6.946208     6.946"
      ]
     },
     "execution_count": 128,
     "metadata": {},
     "output_type": "execute_result"
    }
   ],
   "source": [
    "df[20:25]"
   ]
  },
  {
   "cell_type": "code",
   "execution_count": null,
   "id": "0ae191d1",
   "metadata": {},
   "outputs": [],
   "source": []
  }
 ],
 "metadata": {
  "kernelspec": {
   "display_name": "Python 3 (ipykernel)",
   "language": "python",
   "name": "python3"
  },
  "language_info": {
   "codemirror_mode": {
    "name": "ipython",
    "version": 3
   },
   "file_extension": ".py",
   "mimetype": "text/x-python",
   "name": "python",
   "nbconvert_exporter": "python",
   "pygments_lexer": "ipython3",
   "version": "3.11.3"
  }
 },
 "nbformat": 4,
 "nbformat_minor": 5
}
